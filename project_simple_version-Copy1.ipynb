{
 "cells": [
  {
   "cell_type": "code",
   "execution_count": 1,
   "metadata": {
    "scrolled": false
   },
   "outputs": [],
   "source": [
    "import SimFunctions\n",
    "import SimRNG \n",
    "import SimClasses\n",
    "import numpy as np\n",
    "import pandas as pd\n",
    "#import matplotlib.pyplot as plt\n",
    "import scipy.stats as stats"
   ]
  },
  {
   "cell_type": "code",
   "execution_count": 2,
   "metadata": {},
   "outputs": [
    {
     "data": {
      "text/plain": [
       "7:00-7:20     1.869565\n",
       "7:20-7:40     4.967391\n",
       "7:40-8:00     7.923913\n",
       "8:00-8:20     4.619565\n",
       "8:20-8:40     6.086957\n",
       "8:40-9:00     4.717391\n",
       "9:00-9:20     3.478261\n",
       "9:20-9:40     3.217391\n",
       "9:40-10:00    1.706522\n",
       "dtype: float64"
      ]
     },
     "execution_count": 2,
     "metadata": {},
     "output_type": "execute_result"
    }
   ],
   "source": [
    "import xlrd\n",
    "# Read the data file we got through data cleaning. \n",
    "wb = xlrd.open_workbook('BikeRentCount.xlsx')\n",
    "# The file consists of five sheets and each sheet contains data for one station.\n",
    "sheets = wb.sheet_names()\n",
    "MaxRentingRate=[]\n",
    "RentingRate=[]\n",
    "for i in range(len(sheets)):\n",
    "    data = pd.read_excel('BikeRentCount.xlsx', sheet_name=sheets[i])\n",
    "    #Calculate the average number of rented bikes for each twenty minutes of each station.\n",
    "    rentingRates = data.mean()\n",
    "    RentingRate.append(rentingRates)\n",
    "    # Find the maximum of these rates that would be used for function NSPP\n",
    "    maxRentingRate = max(rentingRates)\n",
    "    MaxRentingRate.append(maxRentingRate)\n",
    "    \n",
    "# Example: the number of rented bikes at Station 2 for every 20 minutes (indexing from 0) \n",
    "RentingRate[1]"
   ]
  },
  {
   "cell_type": "code",
   "execution_count": 3,
   "metadata": {},
   "outputs": [
    {
     "data": {
      "text/plain": [
       "4.717391304347826"
      ]
     },
     "execution_count": 3,
     "metadata": {},
     "output_type": "execute_result"
    }
   ],
   "source": [
    "# Example: the number of rented bikes at Station 2(indexing from 0) during time 8:40-9:00\n",
    "RentingRate[1][5]"
   ]
  },
  {
   "cell_type": "code",
   "execution_count": 4,
   "metadata": {},
   "outputs": [
    {
     "data": {
      "text/plain": [
       "7.923913043478261"
      ]
     },
     "execution_count": 4,
     "metadata": {},
     "output_type": "execute_result"
    }
   ],
   "source": [
    "# Example: the maximum number of rented bikes at station 2(indexing from 0)\n",
    "MaxRentingRate[1]"
   ]
  },
  {
   "cell_type": "code",
   "execution_count": 5,
   "metadata": {},
   "outputs": [],
   "source": [
    "# Similar data processing for 'BikeReturnCount.xlsx'\n",
    "wb = xlrd.open_workbook('BikeReturnCount.xlsx')\n",
    "sheets = wb.sheet_names()\n",
    "MaxReturnRate=[]\n",
    "ReturnRate=[]\n",
    "for i in range(len(sheets)):\n",
    "    data = pd.read_excel('BikeReturnCount.xlsx', sheet_name=sheets[i])\n",
    "    returnRates = data.mean()\n",
    "    ReturnRate.append(returnRates)\n",
    "    maxReturnRate = max(returnRates)\n",
    "    MaxReturnRate.append(maxReturnRate)"
   ]
  },
  {
   "cell_type": "markdown",
   "metadata": {},
   "source": [
    "# Simulation constants"
   ]
  },
  {
   "cell_type": "code",
   "execution_count": 20,
   "metadata": {},
   "outputs": [],
   "source": [
    "order_threshold = 2.0 #schedule the \"rebalancing\" once the number of bikes is less than the threshold\n",
    "order_up_to = 5.0 # the number of bikes in the station would reach 5 after rebalancing\n",
    "delivery_delay = 20 # it takes 20 minutes for bikes to be transported to the station for bike rebalancing\n",
    "SIM_RUN = 100 #number of simulation runs\n",
    "operation_cost = 1 # USD per bike for operation\n",
    "oil_gas = 2 # USD per 1 refillment\n",
    "service_fee = 5 # USD per bike per ride\n",
    "PENALTY = 1 # CAD for cost of loss of business oportunity\n",
    "loss_profit = 0.01 # CAD per bike per minute for loss of business opportunity\n",
    "RunLength = 180 # 3 hours"
   ]
  },
  {
   "cell_type": "code",
   "execution_count": 7,
   "metadata": {},
   "outputs": [],
   "source": [
    "def Rental(**kwargs):\n",
    "    global revenue, penalty, Loss_profit\n",
    "    #Check which station the rental event occurs in\n",
    "    station_id = kwargs['stationID']\n",
    "    #Use NSPP to schedule the next bike rental event for current station\n",
    "    interarrival = NSPP(station_id,MaxRentingRate,RentingRate)\n",
    "    SimFunctions.Schedule(Calendar,\"Rent a bike\",interarrival,stationID = station_id)\n",
    "    # Per bike per minute for loss of business opportunity\n",
    "    #Loss_profit += loss_profit * Num_bikes[station_id] * interarrival\n",
    "    # Check if there are bikes available and update number of bikes for the station.\n",
    "    if Num_bikes[station_id]>0:\n",
    "        Num_bikes[station_id]-=1\n",
    "        revenue += service_fee\n",
    "    else:\n",
    "            penalty += PENALTY\n",
    "            \n",
    "    #Schedule the bike rebalancing event once the number of bikes is less than the threshold \n",
    "    \"\"\"\n",
    "    There are two conditions to be met for the rebalancing operation. Schedule the rebalancing operation \n",
    "    once the number of bikes is less than the threshold and the previous rebalance operation has ended. \n",
    "    \"\"\"\n",
    "    if Num_bikes[station_id] <= order_threshold and quantity[station_id] == 0:\n",
    "        quantity[station_id] = order_up_to - Num_bikes[station_id]\n",
    "        SimFunctions.Schedule(Calendar,\"rebalancing\",delivery_delay,stationID=station_id,num_ordered=quantity[station_id])"
   ]
  },
  {
   "cell_type": "code",
   "execution_count": 8,
   "metadata": {},
   "outputs": [],
   "source": [
    "def RideEnd(**kwargs):\n",
    "    global  revenue, penalty, Loss_profit\n",
    "    station_id = kwargs['stationID']\n",
    "    ##Use NSPP to schedule the next end of ride for current station\n",
    "    interarrival = NSPP(station_id,MaxReturnRate,ReturnRate)\n",
    "    SimFunctions.Schedule(Calendar,\"Return a bike\",interarrival,stationID = station_id)\n",
    "    #Loss_profit += loss_profit * Num_bikes[station_id] * interarrival\n",
    "    # Check if there are empty racks to keep the bike.\n",
    "    if Num_bikes[station_id] <= Num_docks[station_id]:\n",
    "        Num_bikes[station_id] += 1\n",
    "    # If there is no empty racks,the customer will get 30% refunded.\n",
    "    else:\n",
    "        penalty += 0.3*service_fee"
   ]
  },
  {
   "cell_type": "code",
   "execution_count": 9,
   "metadata": {},
   "outputs": [],
   "source": [
    "def rebalancing(**kwargs):\n",
    "    global revenue , cost, Loss_profit\n",
    "    station_id = kwargs['stationID']\n",
    "    #The number of bikes needed for bike rebalancing\n",
    "    num_ordered = kwargs['num_ordered']\n",
    "    #cost due to bike rebalanccing\n",
    "    cost += (num_ordered * operation_cost) + oil_gas \n",
    "    #The number of bikes changes after the rebalancing operation\n",
    "    Num_bikes[station_id] += num_ordered\n",
    "    #Set the num_oredered to zero\n",
    "    quantity[station_id] = 0"
   ]
  },
  {
   "cell_type": "code",
   "execution_count": 10,
   "metadata": {},
   "outputs": [],
   "source": [
    "# Prevent index out of range\n",
    "\n",
    "def PW_ArrRate(p,t,Rates):\n",
    "    hour = int(t/20)\n",
    "    if hour <= 8:\n",
    "        return Rates[p][hour]\n",
    "    else:\n",
    "        return Rates[p][-1]\n"
   ]
  },
  {
   "cell_type": "code",
   "execution_count": 11,
   "metadata": {},
   "outputs": [],
   "source": [
    "def NSPP(q,MaxRate,Rate):\n",
    "    PossibleArrival = SimClasses.Clock + SimRNG.Expon(1/(MaxRate[q]/20), 1)\n",
    "    while SimRNG.Uniform(0, 1, 1) >= PW_ArrRate(q,PossibleArrival,Rate)/(MaxRate[q]):\n",
    "        PossibleArrival = PossibleArrival + SimRNG.Expon(1/(MaxRate[q]/20), 1)\n",
    "    nspp = PossibleArrival - SimClasses.Clock\n",
    "    return nspp"
   ]
  },
  {
   "cell_type": "code",
   "execution_count": 12,
   "metadata": {},
   "outputs": [
    {
     "data": {
      "text/plain": [
       "480"
      ]
     },
     "execution_count": 12,
     "metadata": {},
     "output_type": "execute_result"
    }
   ],
   "source": [
    "# Get all trial solution \n",
    "trial_solution = []\n",
    "for a in range(5,15):\n",
    "    for b in range(10,27):\n",
    "        for c in range(5,11):\n",
    "            for d in range(5,15):\n",
    "                for e in range(5,15):\n",
    "                    if (a+b+c+d+e)==70:\n",
    "                        trial_solution.append([a,b,c,d,e])\n",
    "len(trial_solution)"
   ]
  },
  {
   "cell_type": "code",
   "execution_count": 21,
   "metadata": {},
   "outputs": [],
   "source": [
    "Calendar = SimClasses.EventCalendar()\n",
    "TheCTStats = []\n",
    "TheDTStats = []\n",
    "TheQueues = []\n",
    "TheResources = []\n",
    "\n",
    "ZSimRNG = SimRNG.InitializeRNSeed()\n",
    "\n",
    "#Create an 2d array to record the balance of each trial solution in each simulation run\n",
    "output = np.zeros((SIM_RUN,len(trial_solution)))\n",
    "for k in range(SIM_RUN):\n",
    "    for j in range(len(trial_solution)):\n",
    "        Num_bikes=[]\n",
    "        #Apply the our model to each trial solution\n",
    "        for i in range(0,5,1):\n",
    "            Num_bikes.append(trial_solution[j][i])\n",
    "        # the number of racks of each station \n",
    "        Num_docks=[15,27,11,15,15]\n",
    "        #initial number of ordered bikes for rebalancing\n",
    "        quantity=[0,0,0,0,0]\n",
    "        revenue = 0\n",
    "        cost = 0\n",
    "        penalty = 0\n",
    "        Loss_profit = 0\n",
    "\n",
    "        SimClasses.Clock = 0.0\n",
    "        SimFunctions.SimFunctionsInit(Calendar,TheQueues,TheCTStats,TheDTStats,TheResources)\n",
    "        for i in range(0,5,1):\n",
    "            #Use NSPP to schedule the first arrival for each station.\n",
    "            SimFunctions.Schedule(Calendar,\"Rent a bike\",NSPP(i,MaxRentingRate,RentingRate),stationID = i)\n",
    "            SimFunctions.Schedule(Calendar,\"Return a bike\",NSPP(i,MaxReturnRate,ReturnRate),stationID = i) \n",
    "        SimFunctions.Schedule(Calendar,\"EndSimulation\",RunLength)\n",
    "        NextEvent = Calendar.Remove()\n",
    "        SimClasses.Clock = NextEvent.EventTime\n",
    "        if NextEvent.EventType == 'Rent a bike':\n",
    "            Rental(**NextEvent.Kwargs)\n",
    "        elif NextEvent.EventType == 'Return a bike':\n",
    "            RideEnd(**NextEvent.Kwargs)\n",
    "        elif NextEvent.EventType == 'rebalancing':\n",
    "            rebalancing(**NextEvent.Kwargs)\n",
    "\n",
    "        while NextEvent.EventType != \"EndSimulation\":\n",
    "            NextEvent = Calendar.Remove()\n",
    "            SimClasses.Clock = NextEvent.EventTime\n",
    "            if NextEvent.EventType == 'Rent a bike':\n",
    "                Rental(**NextEvent.Kwargs)\n",
    "            elif NextEvent.EventType == 'Return a bike':\n",
    "                RideEnd(**NextEvent.Kwargs)\n",
    "            elif NextEvent.EventType == 'rebalancing':\n",
    "                rebalancing(**NextEvent.Kwargs)\n",
    "        balance = revenue - cost - penalty - Loss_profit\n",
    "        output[k][j]= balance\n",
    "\n",
    "\n"
   ]
  },
  {
   "cell_type": "code",
   "execution_count": 22,
   "metadata": {},
   "outputs": [
    {
     "data": {
      "text/plain": [
       "array([[271.5, 405. , 299. , ..., 290. , 280. , 355. ],\n",
       "       [374. , 330. , 274. , ..., 305. , 328.5, 292. ],\n",
       "       [222. , 288.5, 302.5, ..., 340. , 305. , 335. ],\n",
       "       ...,\n",
       "       [322. , 305.5, 368.5, ..., 300.5, 323.5, 316.5],\n",
       "       [347. , 282.5, 293. , ..., 362. , 325.5, 323.5],\n",
       "       [288.5, 310. , 344. , ..., 320. , 318.5, 310. ]])"
      ]
     },
     "execution_count": 22,
     "metadata": {},
     "output_type": "execute_result"
    }
   ],
   "source": [
    "output"
   ]
  },
  {
   "cell_type": "code",
   "execution_count": 23,
   "metadata": {},
   "outputs": [
    {
     "data": {
      "text/plain": [
       "[12, 26, 10, 9, 13]"
      ]
     },
     "execution_count": 23,
     "metadata": {},
     "output_type": "execute_result"
    }
   ],
   "source": [
    "#Get the the expectation by calculating the mean over all simulation runs for each trial solution\n",
    "Estimated_Expected_balance=np.mean(output,axis=0)\n",
    "#Get the best solution \n",
    "trial_solution[np.argmax(Estimated_Expected_balance)]"
   ]
  },
  {
   "cell_type": "code",
   "execution_count": null,
   "metadata": {},
   "outputs": [],
   "source": []
  }
 ],
 "metadata": {
  "kernelspec": {
   "display_name": "Python 3",
   "language": "python",
   "name": "python3"
  },
  "language_info": {
   "codemirror_mode": {
    "name": "ipython",
    "version": 3
   },
   "file_extension": ".py",
   "mimetype": "text/x-python",
   "name": "python",
   "nbconvert_exporter": "python",
   "pygments_lexer": "ipython3",
   "version": "3.5.2"
  }
 },
 "nbformat": 4,
 "nbformat_minor": 2
}
