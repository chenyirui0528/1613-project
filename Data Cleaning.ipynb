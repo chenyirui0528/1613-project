{
 "cells": [
  {
   "cell_type": "code",
   "execution_count": 18,
   "metadata": {},
   "outputs": [],
   "source": [
    "import csv\n",
    "import pandas as pd\n",
    "import numpy as np\n",
    "import matplotlib.pyplot as plt\n",
    "from datetime import datetime"
   ]
  },
  {
   "cell_type": "markdown",
   "metadata": {},
   "source": [
    "## Load the Dataset"
   ]
  },
  {
   "cell_type": "code",
   "execution_count": 13,
   "metadata": {},
   "outputs": [],
   "source": [
    "bike_df = pd.read_csv(\"Bikeshare_Ridership_2017_Q3.csv\")"
   ]
  },
  {
   "cell_type": "code",
   "execution_count": 14,
   "metadata": {},
   "outputs": [
    {
     "data": {
      "text/html": [
       "<div>\n",
       "<style scoped>\n",
       "    .dataframe tbody tr th:only-of-type {\n",
       "        vertical-align: middle;\n",
       "    }\n",
       "\n",
       "    .dataframe tbody tr th {\n",
       "        vertical-align: top;\n",
       "    }\n",
       "\n",
       "    .dataframe thead th {\n",
       "        text-align: right;\n",
       "    }\n",
       "</style>\n",
       "<table border=\"1\" class=\"dataframe\">\n",
       "  <thead>\n",
       "    <tr style=\"text-align: right;\">\n",
       "      <th></th>\n",
       "      <th>trip_id</th>\n",
       "      <th>trip_start_time</th>\n",
       "      <th>trip_stop_time</th>\n",
       "      <th>trip_duration_seconds</th>\n",
       "      <th>from_station_name</th>\n",
       "      <th>to_station_name</th>\n",
       "      <th>user_type</th>\n",
       "    </tr>\n",
       "  </thead>\n",
       "  <tbody>\n",
       "    <tr>\n",
       "      <th>0</th>\n",
       "      <td>1253914</td>\n",
       "      <td>7/1/2017 0:00</td>\n",
       "      <td>7/1/2017 0:15</td>\n",
       "      <td>910</td>\n",
       "      <td>Princess St / Adelaide St E</td>\n",
       "      <td>424 Wellington St W</td>\n",
       "      <td>Member</td>\n",
       "    </tr>\n",
       "    <tr>\n",
       "      <th>1</th>\n",
       "      <td>1253915</td>\n",
       "      <td>7/1/2017 0:01</td>\n",
       "      <td>7/1/2017 0:15</td>\n",
       "      <td>837</td>\n",
       "      <td>Fort York  Blvd / Capreol Crt</td>\n",
       "      <td>HTO Park (Queens Quay W)</td>\n",
       "      <td>Casual</td>\n",
       "    </tr>\n",
       "    <tr>\n",
       "      <th>2</th>\n",
       "      <td>1253916</td>\n",
       "      <td>7/1/2017 0:01</td>\n",
       "      <td>7/1/2017 0:14</td>\n",
       "      <td>786</td>\n",
       "      <td>Fort York  Blvd / Capreol Crt</td>\n",
       "      <td>HTO Park (Queens Quay W)</td>\n",
       "      <td>Casual</td>\n",
       "    </tr>\n",
       "    <tr>\n",
       "      <th>3</th>\n",
       "      <td>1253917</td>\n",
       "      <td>7/1/2017 0:01</td>\n",
       "      <td>7/1/2017 0:25</td>\n",
       "      <td>1420</td>\n",
       "      <td>Elizabeth St / Edward St (Bus Terminal)</td>\n",
       "      <td>Boston Ave / Queen St E</td>\n",
       "      <td>Casual</td>\n",
       "    </tr>\n",
       "    <tr>\n",
       "      <th>4</th>\n",
       "      <td>1253918</td>\n",
       "      <td>7/1/2017 0:01</td>\n",
       "      <td>7/1/2017 0:25</td>\n",
       "      <td>1437</td>\n",
       "      <td>Elizabeth St / Edward St (Bus Terminal)</td>\n",
       "      <td>Boston Ave / Queen St E</td>\n",
       "      <td>Casual</td>\n",
       "    </tr>\n",
       "  </tbody>\n",
       "</table>\n",
       "</div>"
      ],
      "text/plain": [
       "   trip_id trip_start_time trip_stop_time  trip_duration_seconds  \\\n",
       "0  1253914   7/1/2017 0:00  7/1/2017 0:15                    910   \n",
       "1  1253915   7/1/2017 0:01  7/1/2017 0:15                    837   \n",
       "2  1253916   7/1/2017 0:01  7/1/2017 0:14                    786   \n",
       "3  1253917   7/1/2017 0:01  7/1/2017 0:25                   1420   \n",
       "4  1253918   7/1/2017 0:01  7/1/2017 0:25                   1437   \n",
       "\n",
       "                         from_station_name           to_station_name user_type  \n",
       "0              Princess St / Adelaide St E       424 Wellington St W    Member  \n",
       "1            Fort York  Blvd / Capreol Crt  HTO Park (Queens Quay W)    Casual  \n",
       "2            Fort York  Blvd / Capreol Crt  HTO Park (Queens Quay W)    Casual  \n",
       "3  Elizabeth St / Edward St (Bus Terminal)   Boston Ave / Queen St E    Casual  \n",
       "4  Elizabeth St / Edward St (Bus Terminal)   Boston Ave / Queen St E    Casual  "
      ]
     },
     "execution_count": 14,
     "metadata": {},
     "output_type": "execute_result"
    }
   ],
   "source": [
    "bike_df.head()"
   ]
  },
  {
   "cell_type": "code",
   "execution_count": 19,
   "metadata": {},
   "outputs": [],
   "source": [
    "bike_df['trip_start_time']=pd.to_datetime(bike_df['trip_start_time'])\n",
    "bike_df['trip_stop_time']=pd.to_datetime(bike_df['trip_stop_time'])"
   ]
  },
  {
   "cell_type": "code",
   "execution_count": 31,
   "metadata": {},
   "outputs": [],
   "source": [
    "bike_df['start_hour']=bike_df['trip_start_time'].apply(lambda x: x.hour)\n",
    "bike_df['start_minute']=bike_df['trip_start_time'].apply(lambda x: x.minute)\n",
    "bike_df['start_month']=bike_df['trip_start_time'].apply(lambda x: x.month)\n",
    "bike_df['start_day']=bike_df['trip_start_time'].apply(lambda x: x.day)\n",
    "\n",
    "bike_df['stop_hour']=bike_df['trip_stop_time'].apply(lambda x: x.hour)\n",
    "bike_df['stop_minute']=bike_df['trip_stop_time'].apply(lambda x: x.minute)\n",
    "bike_df['stop_month']=bike_df['trip_stop_time'].apply(lambda x: x.month)\n",
    "bike_df['stop_day']=bike_df['trip_stop_time'].apply(lambda x: x.day)"
   ]
  },
  {
   "cell_type": "code",
   "execution_count": 32,
   "metadata": {},
   "outputs": [
    {
     "data": {
      "text/html": [
       "<div>\n",
       "<style scoped>\n",
       "    .dataframe tbody tr th:only-of-type {\n",
       "        vertical-align: middle;\n",
       "    }\n",
       "\n",
       "    .dataframe tbody tr th {\n",
       "        vertical-align: top;\n",
       "    }\n",
       "\n",
       "    .dataframe thead th {\n",
       "        text-align: right;\n",
       "    }\n",
       "</style>\n",
       "<table border=\"1\" class=\"dataframe\">\n",
       "  <thead>\n",
       "    <tr style=\"text-align: right;\">\n",
       "      <th></th>\n",
       "      <th>trip_id</th>\n",
       "      <th>trip_start_time</th>\n",
       "      <th>trip_stop_time</th>\n",
       "      <th>trip_duration_seconds</th>\n",
       "      <th>from_station_name</th>\n",
       "      <th>to_station_name</th>\n",
       "      <th>user_type</th>\n",
       "      <th>start_hour</th>\n",
       "      <th>start_minute</th>\n",
       "      <th>stop_hour</th>\n",
       "      <th>stop_minute</th>\n",
       "      <th>start_month</th>\n",
       "      <th>start_day</th>\n",
       "      <th>stop_month</th>\n",
       "      <th>stop_day</th>\n",
       "    </tr>\n",
       "  </thead>\n",
       "  <tbody>\n",
       "    <tr>\n",
       "      <th>0</th>\n",
       "      <td>1253914</td>\n",
       "      <td>2017-07-01 00:00:00</td>\n",
       "      <td>2017-07-01 00:15:00</td>\n",
       "      <td>910</td>\n",
       "      <td>Princess St / Adelaide St E</td>\n",
       "      <td>424 Wellington St W</td>\n",
       "      <td>Member</td>\n",
       "      <td>0</td>\n",
       "      <td>0</td>\n",
       "      <td>0</td>\n",
       "      <td>15</td>\n",
       "      <td>7</td>\n",
       "      <td>1</td>\n",
       "      <td>7</td>\n",
       "      <td>1</td>\n",
       "    </tr>\n",
       "    <tr>\n",
       "      <th>1</th>\n",
       "      <td>1253915</td>\n",
       "      <td>2017-07-01 00:01:00</td>\n",
       "      <td>2017-07-01 00:15:00</td>\n",
       "      <td>837</td>\n",
       "      <td>Fort York  Blvd / Capreol Crt</td>\n",
       "      <td>HTO Park (Queens Quay W)</td>\n",
       "      <td>Casual</td>\n",
       "      <td>0</td>\n",
       "      <td>1</td>\n",
       "      <td>0</td>\n",
       "      <td>15</td>\n",
       "      <td>7</td>\n",
       "      <td>1</td>\n",
       "      <td>7</td>\n",
       "      <td>1</td>\n",
       "    </tr>\n",
       "    <tr>\n",
       "      <th>2</th>\n",
       "      <td>1253916</td>\n",
       "      <td>2017-07-01 00:01:00</td>\n",
       "      <td>2017-07-01 00:14:00</td>\n",
       "      <td>786</td>\n",
       "      <td>Fort York  Blvd / Capreol Crt</td>\n",
       "      <td>HTO Park (Queens Quay W)</td>\n",
       "      <td>Casual</td>\n",
       "      <td>0</td>\n",
       "      <td>1</td>\n",
       "      <td>0</td>\n",
       "      <td>14</td>\n",
       "      <td>7</td>\n",
       "      <td>1</td>\n",
       "      <td>7</td>\n",
       "      <td>1</td>\n",
       "    </tr>\n",
       "    <tr>\n",
       "      <th>3</th>\n",
       "      <td>1253917</td>\n",
       "      <td>2017-07-01 00:01:00</td>\n",
       "      <td>2017-07-01 00:25:00</td>\n",
       "      <td>1420</td>\n",
       "      <td>Elizabeth St / Edward St (Bus Terminal)</td>\n",
       "      <td>Boston Ave / Queen St E</td>\n",
       "      <td>Casual</td>\n",
       "      <td>0</td>\n",
       "      <td>1</td>\n",
       "      <td>0</td>\n",
       "      <td>25</td>\n",
       "      <td>7</td>\n",
       "      <td>1</td>\n",
       "      <td>7</td>\n",
       "      <td>1</td>\n",
       "    </tr>\n",
       "    <tr>\n",
       "      <th>4</th>\n",
       "      <td>1253918</td>\n",
       "      <td>2017-07-01 00:01:00</td>\n",
       "      <td>2017-07-01 00:25:00</td>\n",
       "      <td>1437</td>\n",
       "      <td>Elizabeth St / Edward St (Bus Terminal)</td>\n",
       "      <td>Boston Ave / Queen St E</td>\n",
       "      <td>Casual</td>\n",
       "      <td>0</td>\n",
       "      <td>1</td>\n",
       "      <td>0</td>\n",
       "      <td>25</td>\n",
       "      <td>7</td>\n",
       "      <td>1</td>\n",
       "      <td>7</td>\n",
       "      <td>1</td>\n",
       "    </tr>\n",
       "  </tbody>\n",
       "</table>\n",
       "</div>"
      ],
      "text/plain": [
       "   trip_id     trip_start_time      trip_stop_time  trip_duration_seconds  \\\n",
       "0  1253914 2017-07-01 00:00:00 2017-07-01 00:15:00                    910   \n",
       "1  1253915 2017-07-01 00:01:00 2017-07-01 00:15:00                    837   \n",
       "2  1253916 2017-07-01 00:01:00 2017-07-01 00:14:00                    786   \n",
       "3  1253917 2017-07-01 00:01:00 2017-07-01 00:25:00                   1420   \n",
       "4  1253918 2017-07-01 00:01:00 2017-07-01 00:25:00                   1437   \n",
       "\n",
       "                         from_station_name           to_station_name  \\\n",
       "0              Princess St / Adelaide St E       424 Wellington St W   \n",
       "1            Fort York  Blvd / Capreol Crt  HTO Park (Queens Quay W)   \n",
       "2            Fort York  Blvd / Capreol Crt  HTO Park (Queens Quay W)   \n",
       "3  Elizabeth St / Edward St (Bus Terminal)   Boston Ave / Queen St E   \n",
       "4  Elizabeth St / Edward St (Bus Terminal)   Boston Ave / Queen St E   \n",
       "\n",
       "  user_type  start_hour  start_minute  stop_hour  stop_minute  start_month  \\\n",
       "0    Member           0             0          0           15            7   \n",
       "1    Casual           0             1          0           15            7   \n",
       "2    Casual           0             1          0           14            7   \n",
       "3    Casual           0             1          0           25            7   \n",
       "4    Casual           0             1          0           25            7   \n",
       "\n",
       "   start_day  stop_month  stop_day  \n",
       "0          1           7         1  \n",
       "1          1           7         1  \n",
       "2          1           7         1  \n",
       "3          1           7         1  \n",
       "4          1           7         1  "
      ]
     },
     "execution_count": 32,
     "metadata": {},
     "output_type": "execute_result"
    }
   ],
   "source": [
    "bike_df.head()"
   ]
  },
  {
   "cell_type": "markdown",
   "metadata": {},
   "source": [
    "## Calculate Arrival Rate"
   ]
  },
  {
   "cell_type": "code",
   "execution_count": 194,
   "metadata": {},
   "outputs": [],
   "source": [
    "morning_df = bike_df[(bike_df['start_hour'] >= 7)&(bike_df['start_hour'] < 10)]\n",
    "return_df = bike_df[(bike_df['stop_hour'] >= 7)&(bike_df['stop_hour'] < 10)]"
   ]
  },
  {
   "cell_type": "code",
   "execution_count": 139,
   "metadata": {},
   "outputs": [
    {
     "name": "stderr",
     "output_type": "stream",
     "text": [
      "/anaconda2/envs/python3/lib/python3.7/site-packages/ipykernel_launcher.py:1: SettingWithCopyWarning: \n",
      "A value is trying to be set on a copy of a slice from a DataFrame.\n",
      "Try using .loc[row_indexer,col_indexer] = value instead\n",
      "\n",
      "See the caveats in the documentation: http://pandas.pydata.org/pandas-docs/stable/indexing.html#indexing-view-versus-copy\n",
      "  \"\"\"Entry point for launching an IPython kernel.\n"
     ]
    }
   ],
   "source": [
    "morning_df['Value'] = np.nan"
   ]
  },
  {
   "cell_type": "code",
   "execution_count": 147,
   "metadata": {},
   "outputs": [],
   "source": [
    "for i,row in morning_df.iterrows(): \n",
    "    if (row['start_minute'] >= 0) and (row['start_minute'] < 20): \n",
    "        morning_df.at[i, 'Value'] = 1\n",
    "    elif (row['start_minute'] >= 20) and (row['start_minute'] < 40): \n",
    "        morning_df.at[i, 'Value'] = 2\n",
    "    else:\n",
    "        morning_df.at[i, 'Value'] = 3"
   ]
  },
  {
   "cell_type": "code",
   "execution_count": 189,
   "metadata": {},
   "outputs": [],
   "source": [
    "def start_station(station_name):\n",
    "    df = morning_df[morning_df['from_station_name'] == station_name]\n",
    "    c = ['7:00-7:20', '7:20-7:40', '7:40-8:00', '8:00-8:20', '8:20-8:40', '8:40-9:00', \n",
    "                                    '9:00-9:20', '9:20-9:40', '9:40-10:00']\n",
    "    count = pd.DataFrame(columns = c)\n",
    "    gross = []\n",
    "    for h in range(7,10,1):\n",
    "        for i in range(1,4,1):\n",
    "            counts = []\n",
    "            for m in range(7,10,1):\n",
    "                for d in range(1,32,1):\n",
    "                    counts.append(len(df[(df['start_month'] == m) & (df['start_day'] == d) & \n",
    "                                        (df['start_hour']== h) & (df['Value'] == i)]))\n",
    "            gross.append(counts)\n",
    "    \n",
    "    for j in range(0,9,1):\n",
    "        count[c[j]] = gross[j]\n",
    "\n",
    "    count = count.drop(count.index[len(count)-1])\n",
    "    count.loc['Mean'] = count.mean()\n",
    "    \n",
    "    return count"
   ]
  },
  {
   "cell_type": "code",
   "execution_count": 191,
   "metadata": {},
   "outputs": [],
   "source": [
    "Bay_St = start_station('Bay St / St. Joseph St');\n",
    "Union = start_station('Union Station');\n",
    "College_St = start_station('College St / Major St');\n",
    "Queens = start_station('Queens Quay / Yonge St');\n",
    "Madison = start_station('Madison Ave / Bloor St W');"
   ]
  },
  {
   "cell_type": "code",
   "execution_count": 193,
   "metadata": {},
   "outputs": [],
   "source": [
    "with pd.ExcelWriter('BikeRentCount.xlsx') as writer:\n",
    "    Bay_St.to_excel(writer, sheet_name = 'Bay_St')\n",
    "    Union.to_excel(writer, sheet_name = 'Union')\n",
    "    College_St.to_excel(writer, sheet_name = 'College_St')\n",
    "    Queens.to_excel(writer, sheet_name = 'Queens')\n",
    "    Madison.to_excel(writer, sheet_name = 'Madison')"
   ]
  },
  {
   "cell_type": "markdown",
   "metadata": {},
   "source": [
    "## Calculate Return Rate"
   ]
  },
  {
   "cell_type": "code",
   "execution_count": 195,
   "metadata": {},
   "outputs": [
    {
     "name": "stderr",
     "output_type": "stream",
     "text": [
      "/anaconda2/envs/python3/lib/python3.7/site-packages/ipykernel_launcher.py:1: SettingWithCopyWarning: \n",
      "A value is trying to be set on a copy of a slice from a DataFrame.\n",
      "Try using .loc[row_indexer,col_indexer] = value instead\n",
      "\n",
      "See the caveats in the documentation: http://pandas.pydata.org/pandas-docs/stable/indexing.html#indexing-view-versus-copy\n",
      "  \"\"\"Entry point for launching an IPython kernel.\n"
     ]
    }
   ],
   "source": [
    "return_df['Value'] = np.nan\n",
    "for i,row in return_df.iterrows(): \n",
    "    if (row['stop_minute'] >= 0) and (row['stop_minute'] < 20): \n",
    "        return_df.at[i, 'Value'] = 1\n",
    "    elif (row['stop_minute'] >= 20) and (row['stop_minute'] < 40): \n",
    "        return_df.at[i, 'Value'] = 2\n",
    "    else:\n",
    "        return_df.at[i, 'Value'] = 3"
   ]
  },
  {
   "cell_type": "code",
   "execution_count": 196,
   "metadata": {},
   "outputs": [],
   "source": [
    "def return_station(station_name):\n",
    "    df = return_df[return_df['to_station_name'] == station_name]\n",
    "    c = ['7:00-7:20', '7:20-7:40', '7:40-8:00', '8:00-8:20', '8:20-8:40', '8:40-9:00', \n",
    "                                    '9:00-9:20', '9:20-9:40', '9:40-10:00']\n",
    "    count = pd.DataFrame(columns = c)\n",
    "    gross = []\n",
    "    for h in range(7,10,1):\n",
    "        for i in range(1,4,1):\n",
    "            counts = []\n",
    "            for m in range(7,10,1):\n",
    "                for d in range(1,32,1):\n",
    "                    counts.append(len(df[(df['stop_month'] == m) & (df['stop_day'] == d) & \n",
    "                                        (df['stop_hour']== h) & (df['Value'] == i)]))\n",
    "            gross.append(counts)\n",
    "    \n",
    "    for j in range(0,9,1):\n",
    "        count[c[j]] = gross[j]\n",
    "\n",
    "    count = count.drop(count.index[len(count)-1])\n",
    "    count.loc['Mean'] = count.mean()\n",
    "    \n",
    "    return count"
   ]
  },
  {
   "cell_type": "code",
   "execution_count": 197,
   "metadata": {},
   "outputs": [],
   "source": [
    "Bay_St_r = return_station('Bay St / St. Joseph St');\n",
    "Union_r = return_station('Union Station');\n",
    "College_St_r = return_station('College St / Major St');\n",
    "Queens_r = return_station('Queens Quay / Yonge St');\n",
    "Madison_r = return_station('Madison Ave / Bloor St W');"
   ]
  },
  {
   "cell_type": "code",
   "execution_count": 198,
   "metadata": {},
   "outputs": [],
   "source": [
    "with pd.ExcelWriter('BikeReturnCount.xlsx') as writer:\n",
    "    Bay_St_r.to_excel(writer, sheet_name = 'Bay_St')\n",
    "    Union_r.to_excel(writer, sheet_name = 'Union')\n",
    "    College_St_r.to_excel(writer, sheet_name = 'College_St')\n",
    "    Queens_r.to_excel(writer, sheet_name = 'Queens')\n",
    "    Madison_r.to_excel(writer, sheet_name = 'Madison')"
   ]
  },
  {
   "cell_type": "code",
   "execution_count": null,
   "metadata": {},
   "outputs": [],
   "source": []
  }
 ],
 "metadata": {
  "kernelspec": {
   "display_name": "Python 3",
   "language": "python",
   "name": "python3"
  },
  "language_info": {
   "codemirror_mode": {
    "name": "ipython",
    "version": 3
   },
   "file_extension": ".py",
   "mimetype": "text/x-python",
   "name": "python",
   "nbconvert_exporter": "python",
   "pygments_lexer": "ipython3",
   "version": "3.7.2"
  }
 },
 "nbformat": 4,
 "nbformat_minor": 2
}
