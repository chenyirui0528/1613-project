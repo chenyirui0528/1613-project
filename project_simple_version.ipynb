{
 "cells": [
  {
   "cell_type": "code",
   "execution_count": 375,
   "metadata": {
    "scrolled": false
   },
   "outputs": [],
   "source": [
    "import SimFunctions\n",
    "import SimRNG \n",
    "import SimClasses\n",
    "import numpy as np\n",
    "import pandas as pd\n",
    "import matplotlib.pyplot as plt\n",
    "import scipy.stats as stats"
   ]
  },
  {
   "cell_type": "code",
   "execution_count": 376,
   "metadata": {},
   "outputs": [
    {
     "data": {
      "text/plain": [
       "4.717391304347826"
      ]
     },
     "execution_count": 376,
     "metadata": {},
     "output_type": "execute_result"
    }
   ],
   "source": [
    "import xlrd\n",
    "wb = xlrd.open_workbook('BikeRentCount.xlsx')\n",
    "sheets = wb.sheet_names()\n",
    "MaxRentingRate=[]\n",
    "RentingRate=[]\n",
    "for i in range(len(sheets)):\n",
    "    data = pd.read_excel('BikeRentCount.xlsx', sheet_name=sheets[i])\n",
    "    rentingRates = data.mean()\n",
    "    RentingRate.append(rentingRates)\n",
    "    maxRentingRate = max(rentingRates)\n",
    "    MaxRentingRate.append(maxRentingRate)\n",
    "# Example: rate of bike renting at station 2(indexing from 0) during time 8:40-9:00\n",
    "RentingRate[1][5]"
   ]
  },
  {
   "cell_type": "code",
   "execution_count": 377,
   "metadata": {},
   "outputs": [
    {
     "data": {
      "text/plain": [
       "7.923913043478261"
      ]
     },
     "execution_count": 377,
     "metadata": {},
     "output_type": "execute_result"
    }
   ],
   "source": [
    "# Example: maxmum rate of bike renting at station 2(indexing from 0)\n",
    "MaxRentingRate[1]"
   ]
  },
  {
   "cell_type": "code",
   "execution_count": 378,
   "metadata": {},
   "outputs": [],
   "source": [
    "wb = xlrd.open_workbook('BikeReturnCount.xlsx')\n",
    "sheets = wb.sheet_names()\n",
    "MaxReturnRate=[]\n",
    "ReturnRate=[]\n",
    "for i in range(len(sheets)):\n",
    "    data = pd.read_excel('BikeReturnCount.xlsx', sheet_name=sheets[i])\n",
    "    returnRates = data.mean()\n",
    "    ReturnRate.append(returnRates)\n",
    "    maxReturnRate = max(returnRates)\n",
    "    MaxReturnRate.append(maxReturnRate)"
   ]
  },
  {
   "cell_type": "code",
   "execution_count": 379,
   "metadata": {},
   "outputs": [],
   "source": [
    "order_threshold = 2.0\n",
    "order_up_to = 5.0 \n",
    "delivery_delay = 20 # in minutes\n",
    "SIM_RUN = 10 #number of simulation runs\n",
    "operation_cost = 1 # USD per bike for operation\n",
    "oil_gas = 2 # USD per 1 refillment\n",
    "service_fee = 5 # USD per bike per ride\n",
    "PENALTY = 1 # USD for cost of loss of business oportunity\n",
    "loss_profit = 0.01 # USD per bike per minute for loss of business opportunity\n",
    "RunLength = 180"
   ]
  },
  {
   "cell_type": "code",
   "execution_count": 380,
   "metadata": {},
   "outputs": [],
   "source": [
    "def Rent(**kwargs):\n",
    "    global revenue, penalty, Loss_profit,happiness\n",
    "    station_id = kwargs['stationID']\n",
    "   #NSPP\n",
    "    interarrival = NSPP(station_id,MaxRentingRate,RentingRate)\n",
    "    SimFunctions.Schedule(Calendar,\"Rent a bike\",interarrival,stationID = station_id)\n",
    "    Loss_profit += loss_profit * Num_bikes[station_id] * interarrival\n",
    "    if Num_bikes[station_id]>0:\n",
    "        Num_bikes[station_id]-=1\n",
    "        revenue += service_fee\n",
    "    else:\n",
    "            penalty += PENALTY\n",
    "            happiness -=1\n",
    "    if Num_bikes[station_id] <= order_threshold and quantity[station_id] == 0:\n",
    "        quantity[station_id] = order_up_to - Num_bikes[station_id]\n",
    "        SimFunctions.Schedule(Calendar,\"rebalancing\",delivery_delay,stationID=station_id,num_ordered=quantity[station_id])"
   ]
  },
  {
   "cell_type": "code",
   "execution_count": 381,
   "metadata": {},
   "outputs": [],
   "source": [
    "def Return(**kwargs):\n",
    "    global  revenue, penalty, Loss_profit,happiness\n",
    "    station_id = kwargs['stationID']\n",
    "   #NSPP\n",
    "    interarrival = NSPP(station_id,MaxReturnRate,ReturnRate)\n",
    "    SimFunctions.Schedule(Calendar,\"Return a bike\",interarrival,stationID = station_id)\n",
    "    Loss_profit += loss_profit * Num_bikes[station_id] * interarrival\n",
    "    if Num_bikes[station_id] <= Num_docks[station_id]:\n",
    "        Num_bikes[station_id] += 1\n",
    "    else:\n",
    "        happiness-=1"
   ]
  },
  {
   "cell_type": "code",
   "execution_count": 382,
   "metadata": {},
   "outputs": [],
   "source": [
    "def rebalancing(**kwargs):\n",
    "    global revenue , cost, Loss_profit,happiness\n",
    "    station_id = kwargs['stationID']\n",
    "    num_ordered = kwargs['num_ordered']\n",
    "    cost += (num_ordered * operation_cost) + oil_gas \n",
    "    Num_bikes[station_id] += num_ordered\n",
    "    quantity[station_id] = 0"
   ]
  },
  {
   "cell_type": "code",
   "execution_count": 383,
   "metadata": {},
   "outputs": [],
   "source": [
    "def PW_ArrRate(i,t,Rates):\n",
    "    hour = int(t/20)\n",
    "    if hour <= 8:\n",
    "        return Rates[i][hour]\n",
    "    else:\n",
    "        return Rates[i][-1]\n"
   ]
  },
  {
   "cell_type": "code",
   "execution_count": 384,
   "metadata": {},
   "outputs": [],
   "source": [
    "def NSPP(i,MaxRate,Rate):\n",
    "    PossibleArrival = SimClasses.Clock + SimRNG.Expon(1/(MaxRate[i]/20), 1)\n",
    "    while SimRNG.Uniform(0, 1, 1) >= PW_ArrRate(i,PossibleArrival,Rate)/(MaxRate[i]):\n",
    "        PossibleArrival = PossibleArrival + SimRNG.Expon(1/(MaxRate[i]/20), 1)\n",
    "    nspp = PossibleArrival - SimClasses.Clock\n",
    "    return nspp"
   ]
  },
  {
   "cell_type": "code",
   "execution_count": 385,
   "metadata": {},
   "outputs": [
    {
     "name": "stdout",
     "output_type": "stream",
     "text": [
      "[7, 22, 9, 5, 7]\n",
      "[8, 19, 6, 9, 8]\n",
      "[9, 23, 6, 6, 6]\n",
      "[7, 24, 5, 8, 6]\n",
      "[8, 23, 5, 9, 5]\n",
      "[7, 20, 9, 6, 8]\n",
      "[6, 25, 8, 5, 6]\n",
      "[6, 25, 7, 6, 6]\n",
      "[7, 23, 7, 8, 5]\n",
      "[6, 24, 6, 7, 7]\n"
     ]
    }
   ],
   "source": [
    "Calendar = SimClasses.EventCalendar()\n",
    "TheCTStats = []\n",
    "TheDTStats = []\n",
    "TheQueues = []\n",
    "TheResources = []\n",
    "balance_list=[]\n",
    "happiness_list = []\n",
    "ZSimRNG = SimRNG.InitializeRNSeed()\n",
    "\n",
    "#initial number of bikes in each station\n",
    "Num_bikes=[0,0,0,0,0]\n",
    "\n",
    "for i in range(SIM_RUN):\n",
    "    previous_balance=0\n",
    "    for a in range(5,10):\n",
    "        for b in range(10,27):\n",
    "            for c in range(5,11):\n",
    "                for d in range(5,10):\n",
    "                    for e in range(5,10):\n",
    "                        if (a+b+c+d+e)==50:\n",
    "                            #initial number of bikes in each station in each loop\n",
    "                            Num_bikes=[a,b,c,d,e]\n",
    "                            Num_docks=[15,27,11,15,15]\n",
    "                            #initial number of ordered bikes for rebalancing\n",
    "                            quantity=[0,0,0,0,0]\n",
    "                            revenue = 0\n",
    "                            cost = 0\n",
    "                            penalty = 0\n",
    "                            Loss_profit = 0\n",
    "                            happiness = 0\n",
    "                            \n",
    "                            SimClasses.Clock = 0.0\n",
    "                            SimFunctions.SimFunctionsInit(Calendar,TheQueues,TheCTStats,TheDTStats,TheResources)\n",
    "                            for i in range(0,5,1):\n",
    "                                #NSPP\n",
    "                                SimFunctions.Schedule(Calendar,\"Rent a bike\",NSPP(i,MaxRentingRate,RentingRate),stationID = i)\n",
    "                                SimFunctions.Schedule(Calendar,\"Return a bike\",NSPP(i,MaxReturnRate,ReturnRate),stationID = i) \n",
    "                            SimFunctions.Schedule(Calendar,\"EndSimulation\",RunLength)\n",
    "                            NextEvent = Calendar.Remove()\n",
    "                            SimClasses.Clock = NextEvent.EventTime\n",
    "                            if NextEvent.EventType == 'Rent a bike':\n",
    "                                Rent(**NextEvent.handlerKwargs)\n",
    "                            elif NextEvent.EventType == 'Return a bike':\n",
    "                                Return(**NextEvent.handlerKwargs)\n",
    "                            elif NextEvent.EventType == 'rebalancing':\n",
    "                                rebalancing(**NextEvent.handlerKwargs)\n",
    "\n",
    "                            while NextEvent.EventType != \"EndSimulation\":\n",
    "                                NextEvent = Calendar.Remove()\n",
    "                                SimClasses.Clock = NextEvent.EventTime\n",
    "                                if NextEvent.EventType == 'Rent a bike':\n",
    "                                    Rent(**NextEvent.handlerKwargs)\n",
    "                                elif NextEvent.EventType == 'Return a bike':\n",
    "                                    Return(**NextEvent.handlerKwargs)\n",
    "                                elif NextEvent.EventType == 'rebalancing':\n",
    "                                    rebalancing(**NextEvent.handlerKwargs)\n",
    "                            #find the best bikes distribition scenario\n",
    "                            balance = revenue - cost - penalty - Loss_profit\n",
    "                            if balance>previous_balance:\n",
    "                                previous_balance=balance\n",
    "                                bestDistr=[a,b,c,d,e]\n",
    "    #balance_list.append(balance)\n",
    "    print(bestDistr)\n",
    "                            \n"
   ]
  },
  {
   "cell_type": "code",
   "execution_count": null,
   "metadata": {},
   "outputs": [],
   "source": []
  }
 ],
 "metadata": {
  "kernelspec": {
   "display_name": "Python 3",
   "language": "python",
   "name": "python3"
  },
  "language_info": {
   "codemirror_mode": {
    "name": "ipython",
    "version": 3
   },
   "file_extension": ".py",
   "mimetype": "text/x-python",
   "name": "python",
   "nbconvert_exporter": "python",
   "pygments_lexer": "ipython3",
   "version": "3.5.2"
  }
 },
 "nbformat": 4,
 "nbformat_minor": 2
}
