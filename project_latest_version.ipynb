{
 "cells": [
  {
   "cell_type": "code",
   "execution_count": 252,
   "metadata": {
    "scrolled": false
   },
   "outputs": [],
   "source": [
    "import SimFunctions\n",
    "import SimRNG \n",
    "import SimClasses\n",
    "import numpy as np\n",
    "import pandas as pd\n",
    "#import matplotlib.pyplot as plt\n",
    "import scipy.stats as stats"
   ]
  },
  {
   "cell_type": "code",
   "execution_count": 253,
   "metadata": {},
   "outputs": [
    {
     "data": {
      "text/plain": [
       "7:00-7:20     1.869565\n",
       "7:20-7:40     4.967391\n",
       "7:40-8:00     7.923913\n",
       "8:00-8:20     4.619565\n",
       "8:20-8:40     6.086957\n",
       "8:40-9:00     4.717391\n",
       "9:00-9:20     3.478261\n",
       "9:20-9:40     3.217391\n",
       "9:40-10:00    1.706522\n",
       "dtype: float64"
      ]
     },
     "execution_count": 253,
     "metadata": {},
     "output_type": "execute_result"
    }
   ],
   "source": [
    "import xlrd\n",
    "# Read the data file we got through data cleaning. \n",
    "wb = xlrd.open_workbook('BikeRentCount.xlsx')\n",
    "# The file consists of five sheets and each sheet contains data for one station.\n",
    "sheets = wb.sheet_names()\n",
    "MaxRentingRate=[]\n",
    "RentingRate=[]\n",
    "for i in range(len(sheets)):\n",
    "    data = pd.read_excel('BikeRentCount.xlsx', sheet_name=sheets[i])\n",
    "    #Calculate the average number of rented bikes for each twenty minutes of each station.\n",
    "    rentingRates = data.mean()\n",
    "    RentingRate.append(rentingRates)\n",
    "    # Find the maximum of these rates that would be used for function NSPP\n",
    "    maxRentingRate = max(rentingRates)\n",
    "    MaxRentingRate.append(maxRentingRate)\n",
    "    \n",
    "# Example: the number of rented bikes at Station 2 for every 20 minutes (indexing from 0) \n",
    "RentingRate[1]"
   ]
  },
  {
   "cell_type": "code",
   "execution_count": 254,
   "metadata": {},
   "outputs": [
    {
     "data": {
      "text/plain": [
       "4.717391304347826"
      ]
     },
     "execution_count": 254,
     "metadata": {},
     "output_type": "execute_result"
    }
   ],
   "source": [
    "# Example: the number of rented bikes at Station 2(indexing from 0) during time 8:40-9:00\n",
    "RentingRate[1][5]"
   ]
  },
  {
   "cell_type": "code",
   "execution_count": 255,
   "metadata": {},
   "outputs": [
    {
     "data": {
      "text/plain": [
       "7.923913043478261"
      ]
     },
     "execution_count": 255,
     "metadata": {},
     "output_type": "execute_result"
    }
   ],
   "source": [
    "# Example: the maximum number of rented bikes at station 2(indexing from 0)\n",
    "MaxRentingRate[1]"
   ]
  },
  {
   "cell_type": "code",
   "execution_count": 256,
   "metadata": {},
   "outputs": [],
   "source": [
    "# Similar data processing for 'BikeReturnCount.xlsx'\n",
    "wb = xlrd.open_workbook('BikeReturnCount.xlsx')\n",
    "sheets = wb.sheet_names()\n",
    "MaxReturnRate=[]\n",
    "ReturnRate=[]\n",
    "for i in range(len(sheets)):\n",
    "    data = pd.read_excel('BikeReturnCount.xlsx', sheet_name=sheets[i])\n",
    "    returnRates = data.mean()\n",
    "    ReturnRate.append(returnRates)\n",
    "    maxReturnRate = max(returnRates)\n",
    "    MaxReturnRate.append(maxReturnRate)"
   ]
  },
  {
   "cell_type": "markdown",
   "metadata": {},
   "source": [
    "# Simulation constants"
   ]
  },
  {
   "cell_type": "code",
   "execution_count": 318,
   "metadata": {},
   "outputs": [],
   "source": [
    "order_threshold = 5.0 #schedule the \"rebalancing\" once the number of bikes is less than the threshold\n",
    "order_up_to = 10.0 # the number of bikes in the station would reach 5 after rebalancing\n",
    "delivery_delay = 20 # it takes 20 minutes for bikes to be transported to the station for bike rebalancing\n",
    "SIM_RUN = 10 #number of simulation runs\n",
    "operation_cost = 2 # USD per bike for operation\n",
    "oil_gas = 3 # USD per 1 refillment\n",
    "service_fee = 3.75 # USD per bike per ride\n",
    "PENALTY = 3 # CAD for cost of loss of business oportunity\n",
    "loss_profit = 0.01 # CAD per bike per minute for loss of business opportunity\n",
    "RunLength = 180 # 3 hours"
   ]
  },
  {
   "cell_type": "code",
   "execution_count": 350,
   "metadata": {},
   "outputs": [],
   "source": [
    "def Rental(**kwargs):\n",
    "    global revenue, penalty, Loss_profit\n",
    "    #Check which station the rental event occurs in\n",
    "    station_id = kwargs['stationID']\n",
    "    Pickup_queue = kwargs[\"pickup_queue\"]\n",
    "    Dropoff_queue = kwargs[\"dropoff_queue\"]\n",
    "    #Use NSPP to schedule the next bike rental event for current station\n",
    "    interarrival = NSPP(station_id,MaxRentingRate,RentingRate)\n",
    "    SimFunctions.Schedule(Calendar,\"Rent a bike\",interarrival,stationID = station_id,pickup_queue = TheQueues[station_id],dropoff_queue = TheQueues[station_id+5])\n",
    "\n",
    "    # Checks if there are people waiting to put the bikes back.\n",
    "    if Dropoff_queue.NumQueue() > 0:\n",
    "        DepartingCustomer = Dropoff_queue.Remove()\n",
    "        Waiting_time = SimClasses.Clock - DepartingCustomer.CreateTime\n",
    "        Wait.Record(SimClasses.Clock - DepartingCustomer.CreateTime)\n",
    "        # If customer has waited too long to return the bike, refund is given.\n",
    "        # The customer gets the bike from the people waiting to put the bikes back.\n",
    "        if Waiting_time >5:\n",
    "            penalty += service_fee\n",
    "            \n",
    "    #If no one is waiting to put the bikes back,\n",
    "    #check if there are bikes available and update number of bikes for the station.\n",
    "    else:\n",
    "        if Num_bikes[station_id]>0:\n",
    "            Num_bikes[station_id]-=1\n",
    "            # Customer pays to rent bike.\n",
    "            revenue += service_fee\n",
    "        #No bikes available so the customer begins waiting for bikes to become available.\n",
    "        else:\n",
    "            Customer = SimClasses.Entity()\n",
    "            Pickup_queue.Add(Customer)\n",
    "            \n",
    "    #Schedule the bike rebalancing event once the number of bikes is less than the threshold \n",
    "    \"\"\"\n",
    "    There are two conditions to be met for the rebalancing operation. Schedule the rebalancing operation \n",
    "    once the number of bikes is less than the threshold and the previous rebalance operation has ended. \n",
    "    \"\"\"\n",
    "    if Num_bikes[station_id] <= order_threshold and quantity[station_id] == 0:\n",
    "        quantity[station_id] = order_up_to - Num_bikes[station_id]\n",
    "        SimFunctions.Schedule(Calendar,\"rebalancing\",delivery_delay,stationID=station_id,pickup_queue = TheQueues[station_id],dropoff_queue = TheQueues[station_id+5],num_ordered=quantity[station_id])"
   ]
  },
  {
   "cell_type": "code",
   "execution_count": 331,
   "metadata": {},
   "outputs": [],
   "source": [
    "def RideEnd(**kwargs):\n",
    "    global  revenue, penalty, Loss_profit\n",
    "    station_id = kwargs['stationID']\n",
    "    Dropoff_queue = kwargs['dropoff_queue']\n",
    "    Pickup_queue = kwargs['pickup_queue']\n",
    "     ##Use NSPP to schedule the next end of ride for current station\n",
    "    interarrival = NSPP(station_id,MaxReturnRate,ReturnRate)\n",
    "    SimFunctions.Schedule(Calendar,\"Return a bike\",interarrival,stationID = station_id,pickup_queue = TheQueues[station_id],dropoff_queue = TheQueues[station_id+5])\n",
    "    \n",
    "    # We assume not every customer will wait for a bike and eventually take a bike.Customers leave after 5 mins.\n",
    "    while(True):\n",
    "        # Check if customers are waiting.\n",
    "        if Pickup_queue.NumQueue() == 0:\n",
    "            #If no one is waiting to pick up the bike,check if there are empty racks to keep the bike.   \n",
    "            if Num_bikes[station_id] < Num_docks[station_id]:\n",
    "                # Customer returns the bike to the rack.\n",
    "                Num_bikes[station_id] += 1\n",
    "            # No empty racks. The customer begins waiting in queue.\n",
    "            else:\n",
    "                Customer = SimClasses.Entity()\n",
    "                Dropoff_queue.Add(Customer)\n",
    "            break\n",
    "        #If there are customers waiting to pick up the bike,\n",
    "        #check if the customer has left due to waiting too long to pick up the bike.\n",
    "        DepartingCustomer = Pickup_queue.Remove()\n",
    "        Waiting_time = SimClasses.Clock - DepartingCustomer.CreateTime\n",
    "        Wait.Record(SimClasses.Clock - DepartingCustomer.CreateTime)\n",
    "        if Waiting_time < 5:\n",
    "            # Next waiting customer gets a bike from the customer who has finished the ride.\n",
    "            # Break the while loop.\n",
    "            break\n",
    "        else:\n",
    "            # We lose a customer because the customer has waited too long\n",
    "            penalty += PENALTY"
   ]
  },
  {
   "cell_type": "code",
   "execution_count": 332,
   "metadata": {},
   "outputs": [],
   "source": [
    "def rebalancing(**kwargs):\n",
    "    global revenue , cost, Loss_profit,penalty\n",
    "    station_id = kwargs['stationID']\n",
    "    Dropoff_queue = kwargs['dropoff_queue']\n",
    "    Pickup_queue = kwargs['pickup_queue']\n",
    "    #The number of bikes needed for bike rebalancing\n",
    "    num_ordered = kwargs['num_ordered']\n",
    "    #Cost due to bike rebalanccing\n",
    "    cost += (num_ordered * operation_cost) + oil_gas \n",
    "    #The number of bikes changes after the rebalancing operation\n",
    "    Num_bikes[station_id] += num_ordered\n",
    "    # We assume not every customer will wait for a bike and eventually take a bike..Customers leave after 5 mins.\n",
    "    while(True):\n",
    "        # Check if customers are waiting in the pick_up queue and if the ordered number of bikes is in short supply.\n",
    "        if (Pickup_queue.NumQueue() == 0.0) | (Num_bikes[station_id] == 0.0):\n",
    "            break\n",
    "\n",
    "        DepartingCustomer = Pickup_queue.Remove()\n",
    "        Waiting_time = SimClasses.Clock - DepartingCustomer.CreateTime\n",
    "        Wait.Record(SimClasses.Clock - DepartingCustomer.CreateTime)\n",
    "        if Waiting_time < 5:\n",
    "            # Next waiting customer gets a bike\n",
    "             Num_bikes[station_id] -= 1\n",
    "        else:\n",
    "            # We lose a customer\n",
    "            penalty += PENALTY\n",
    "\n",
    "    #Set the num_oredered to zero so the current rebalancing operation is over.\n",
    "    quantity[station_id] = 0"
   ]
  },
  {
   "cell_type": "code",
   "execution_count": 333,
   "metadata": {},
   "outputs": [],
   "source": [
    "# Prevent index out of range\n",
    "\n",
    "def PW_ArrRate(p,t,Rates):\n",
    "    hour = int(t/20)\n",
    "    if hour <= 8:\n",
    "        return Rates[p][hour]\n",
    "    else:\n",
    "        return Rates[p][-1]\n"
   ]
  },
  {
   "cell_type": "code",
   "execution_count": 334,
   "metadata": {},
   "outputs": [],
   "source": [
    "def NSPP(q,MaxRate,Rate):\n",
    "    PossibleArrival = SimClasses.Clock + SimRNG.Expon(1/(MaxRate[q]/20), 1)\n",
    "    while SimRNG.Uniform(0, 1, 1) >= PW_ArrRate(q,PossibleArrival,Rate)/(MaxRate[q]):\n",
    "        PossibleArrival = PossibleArrival + SimRNG.Expon(1/(MaxRate[q]/20), 1)\n",
    "    nspp = PossibleArrival - SimClasses.Clock\n",
    "    return nspp"
   ]
  },
  {
   "cell_type": "code",
   "execution_count": 335,
   "metadata": {},
   "outputs": [
    {
     "data": {
      "text/plain": [
       "480"
      ]
     },
     "execution_count": 335,
     "metadata": {},
     "output_type": "execute_result"
    }
   ],
   "source": [
    "# Get all trial solution \n",
    "trial_solution = []\n",
    "for a in range(5,15):\n",
    "    for b in range(5,27):\n",
    "        for c in range(5,11):\n",
    "            for d in range(5,15):\n",
    "                for e in range(5,15):\n",
    "                    # Initial number of bikes available in the system.\n",
    "                    if (a+b+c+d+e)==70:\n",
    "                        trial_solution.append([a,b,c,d,e])\n",
    "len(trial_solution)"
   ]
  },
  {
   "cell_type": "code",
   "execution_count": 351,
   "metadata": {},
   "outputs": [],
   "source": [
    "Calendar = SimClasses.EventCalendar()\n",
    "Wait = SimClasses.DTStat()\n",
    "\n",
    "Pickup_Queue1 = SimClasses.FIFOQueue()\n",
    "Pickup_Queue2 = SimClasses.FIFOQueue()\n",
    "Pickup_Queue3 = SimClasses.FIFOQueue()\n",
    "Pickup_Queue4 = SimClasses.FIFOQueue()\n",
    "Pickup_Queue5 = SimClasses.FIFOQueue()\n",
    "\n",
    "Dropoff_Queue1 = SimClasses.FIFOQueue()\n",
    "Dropoff_Queue2 = SimClasses.FIFOQueue()\n",
    "Dropoff_Queue3 = SimClasses.FIFOQueue()\n",
    "Dropoff_Queue4 = SimClasses.FIFOQueue()\n",
    "Dropoff_Queue5 = SimClasses.FIFOQueue()\n",
    "\n",
    "TheCTStats = []\n",
    "TheDTStats = []\n",
    "TheQueues = []\n",
    "TheResources = []\n",
    "\n",
    "TheQueues.append(Pickup_Queue1)\n",
    "TheQueues.append(Pickup_Queue2)\n",
    "TheQueues.append(Pickup_Queue3)\n",
    "TheQueues.append(Pickup_Queue4)\n",
    "TheQueues.append(Pickup_Queue5)\n",
    "TheQueues.append(Dropoff_Queue1)\n",
    "TheQueues.append(Dropoff_Queue2)\n",
    "TheQueues.append(Dropoff_Queue3)\n",
    "TheQueues.append(Dropoff_Queue4)\n",
    "TheQueues.append(Dropoff_Queue5)\n",
    "\n",
    "TheDTStats.append(Wait)\n",
    "\n",
    "AllWaitMean = np.zeros((SIM_RUN,len(trial_solution)))\n",
    "\n",
    "ZSimRNG = SimRNG.InitializeRNSeed()\n",
    "\n",
    "#Create an 2d array to record the balance of each trial solution in each simulation run\n",
    "output = np.zeros((SIM_RUN,len(trial_solution)))\n",
    "for k in range(SIM_RUN):\n",
    "    for j in range(len(trial_solution)):\n",
    "        Num_bikes=[]\n",
    "        initial_Num_bikes=[]\n",
    "        #Apply the our model to each trial solution\n",
    "        for i in range(0,5,1):\n",
    "            Num_bikes.append(trial_solution[j][i])\n",
    "            initial_Num_bikes.append(trial_solution[j][i])\n",
    "        # Number of bike racks (total) at each station. This is the maximum parking\n",
    "        # capacity for every station.\n",
    "        Num_docks=[15,27,11,15,15]\n",
    "        #initial number of ordered bikes for rebalancing\n",
    "        quantity=[0,0,0,0,0]\n",
    "        revenue = 0\n",
    "        cost = 0\n",
    "        penalty = 0\n",
    "        Loss_profit = 0\n",
    "\n",
    "        SimClasses.Clock = 0.0\n",
    "        SimFunctions.SimFunctionsInit(Calendar,TheQueues,TheCTStats,TheDTStats,TheResources)\n",
    "        for i in range(0,5,1):\n",
    "            #Use NSPP to schedule the first arrival for each station.\n",
    "            #Initialize queues at each station.\n",
    "            SimFunctions.Schedule(Calendar,\"Rent a bike\",NSPP(i,MaxRentingRate,RentingRate),stationID = i,pickup_queue = TheQueues[i],dropoff_queue = TheQueues[i+5])\n",
    "            SimFunctions.Schedule(Calendar,\"Return a bike\",NSPP(i,MaxReturnRate,ReturnRate),stationID = i,pickup_queue = TheQueues[i],dropoff_queue = TheQueues[i+5]) \n",
    "        SimFunctions.Schedule(Calendar,\"EndSimulation\",RunLength)\n",
    "        NextEvent = Calendar.Remove()\n",
    "        SimClasses.Clock = NextEvent.EventTime\n",
    "        if NextEvent.EventType == \"Rent a bike\":\n",
    "            Rental(**NextEvent.kwargs)\n",
    "        elif NextEvent.EventType == \"Return a bike\":\n",
    "            RideEnd(**NextEvent.kwargs)\n",
    "        elif NextEvent.EventType == \"rebalancing\":\n",
    "            rebalancing(**NextEvent.kwargs)\n",
    "\n",
    "        while NextEvent.EventType != \"EndSimulation\":\n",
    "            NextEvent = Calendar.Remove()\n",
    "            SimClasses.Clock = NextEvent.EventTime\n",
    "            if NextEvent.EventType == \"Rent a bike\":\n",
    "                Rental(**NextEvent.kwargs)\n",
    "            elif NextEvent.EventType == \"Return a bike\":\n",
    "                RideEnd(**NextEvent.kwargs)\n",
    "            elif NextEvent.EventType == \"rebalancing\":\n",
    "                rebalancing(**NextEvent.kwargs)\n",
    "        repositioning_bikes= (abs(np.array(Num_bikes)-np.array(initial_Num_bikes)).sum())\n",
    "        cost += (repositioning_bikes * operation_cost) + oil_gas \n",
    "        balance = revenue - cost - penalty - Loss_profit\n",
    "        output[k][j]= balance\n",
    "        AllWaitMean[k][j] = Wait.Mean()\n",
    "\n",
    "\n"
   ]
  },
  {
   "cell_type": "code",
   "execution_count": 352,
   "metadata": {},
   "outputs": [
    {
     "data": {
      "text/plain": [
       "array([[187.25, 151.  , 170.5 , ..., 200.5 , 158.  , 195.25],\n",
       "       [155.75, 120.5 , 177.  , ..., 161.75, 146.75, 177.25],\n",
       "       [143.  , 158.5 , 173.  , ...,  99.  , 159.25, 158.  ],\n",
       "       ...,\n",
       "       [180.75, 120.25, 162.  , ..., 193.75, 145.5 , 146.25],\n",
       "       [122.75, 165.  , 134.5 , ..., 209.5 , 157.  , 187.5 ],\n",
       "       [154.25, 136.75, 148.5 , ..., 135.  , 141.25, 143.25]])"
      ]
     },
     "execution_count": 352,
     "metadata": {},
     "output_type": "execute_result"
    }
   ],
   "source": [
    "output"
   ]
  },
  {
   "cell_type": "code",
   "execution_count": 356,
   "metadata": {},
   "outputs": [
    {
     "data": {
      "text/plain": [
       "array([[ 0.        , 18.7115286 , 15.37531993, ...,  0.        ,\n",
       "        21.96521418,  4.61418236],\n",
       "       [ 0.        , 21.23296163, 12.40094521, ..., 34.02634907,\n",
       "        25.04008151,  9.26252572],\n",
       "       [13.80984385, 11.88478011,  1.79072886, ..., 18.92836138,\n",
       "        14.58184105,  9.34044501],\n",
       "       ...,\n",
       "       [37.17612842, 35.66504066, 16.43514841, ...,  2.11240261,\n",
       "        32.34306876,  0.        ],\n",
       "       [50.46385118, 29.49521446, 21.16419971, ...,  0.        ,\n",
       "         2.03539243,  2.85539226],\n",
       "       [14.48166639, 18.8992971 , 69.33925762, ..., 11.8653238 ,\n",
       "         9.02600328, 15.8995623 ]])"
      ]
     },
     "execution_count": 356,
     "metadata": {},
     "output_type": "execute_result"
    }
   ],
   "source": [
    "AllWaitMean"
   ]
  },
  {
   "cell_type": "code",
   "execution_count": 353,
   "metadata": {},
   "outputs": [
    {
     "data": {
      "text/plain": [
       "[14, 25, 9, 12, 10]"
      ]
     },
     "execution_count": 353,
     "metadata": {},
     "output_type": "execute_result"
    }
   ],
   "source": [
    "#Get the the expectation by calculating the mean over all simulation runs for each trial solution\n",
    "Estimated_Expected_waittime=np.mean(AllWaitMean,axis=0)\n",
    "#Get the best solution to minimize customers waiting time. \n",
    "trial_solution[np.argmin(Estimated_Expected_waittime)]"
   ]
  },
  {
   "cell_type": "code",
   "execution_count": 354,
   "metadata": {},
   "outputs": [
    {
     "data": {
      "text/plain": [
       "[13, 21, 9, 14, 13]"
      ]
     },
     "execution_count": 354,
     "metadata": {},
     "output_type": "execute_result"
    }
   ],
   "source": [
    "#Get the the expectation by calculating the mean over all simulation runs for each trial solution\n",
    "Estimated_Expected_balance=np.mean(output,axis=0)\n",
    "#Get the best solution to maximize the balance.\n",
    "trial_solution[np.argmax(Estimated_Expected_balance)]"
   ]
  },
  {
   "cell_type": "code",
   "execution_count": 357,
   "metadata": {},
   "outputs": [
    {
     "data": {
      "text/plain": [
       "array([155.85 , 139.975, 157.725, 158.075, 139.225, 152.85 , 157.5  ,\n",
       "       171.475, 153.275, 152.375, 142.55 , 158.6  , 169.45 , 173.6  ,\n",
       "       161.7  , 169.775, 158.225, 159.475, 156.5  , 173.7  , 152.1  ,\n",
       "       156.   , 163.375, 171.2  , 172.5  , 136.125, 166.775, 146.55 ,\n",
       "       165.25 , 171.5  , 154.4  , 149.   , 160.725, 144.55 , 175.225,\n",
       "       172.425, 171.025, 166.375, 178.2  , 157.825, 165.725, 162.725,\n",
       "       166.325, 172.925, 156.3  , 151.275, 161.6  , 178.25 , 159.975,\n",
       "       151.275, 168.15 , 170.175, 169.55 , 178.25 , 140.575, 143.025,\n",
       "       156.75 , 141.875, 168.875, 181.4  , 147.325, 168.6  , 165.625,\n",
       "       162.875, 161.95 , 172.325, 177.475, 168.575, 159.725, 157.1  ,\n",
       "       161.225, 165.475, 168.75 , 168.95 , 163.05 , 163.025, 155.8  ,\n",
       "       168.2  , 166.25 , 166.9  , 163.675, 183.675, 156.275, 170.875,\n",
       "       157.8  , 167.45 , 169.45 , 179.75 , 170.65 , 161.925, 144.05 ,\n",
       "       157.375, 168.125, 168.325, 149.25 , 156.725, 170.925, 172.9  ,\n",
       "       160.1  , 159.975, 157.875, 165.35 , 175.1  , 172.425, 165.65 ,\n",
       "       147.9  , 158.35 , 134.1  , 153.1  , 162.45 , 162.975, 170.625,\n",
       "       170.55 , 129.325, 160.925, 175.225, 167.15 , 179.325, 165.05 ,\n",
       "       153.475, 168.3  , 169.1  , 169.325, 169.625, 149.475, 158.65 ,\n",
       "       165.975, 151.575, 154.925, 160.925, 157.15 , 171.3  , 166.1  ,\n",
       "       180.25 , 166.25 , 159.4  , 160.1  , 171.9  , 158.625, 161.425,\n",
       "       169.85 , 161.425, 166.4  , 157.275, 156.05 , 156.975, 141.775,\n",
       "       163.125, 154.525, 165.45 , 168.125, 153.425, 160.25 , 164.025,\n",
       "       178.55 , 170.175, 171.8  , 177.975, 170.175, 163.775, 163.05 ,\n",
       "       141.95 , 163.7  , 155.825, 148.6  , 165.275, 171.85 , 163.525,\n",
       "       162.575, 178.825, 158.4  , 179.175, 162.825, 181.8  , 173.925,\n",
       "       163.175, 169.5  , 175.2  , 169.325, 180.225, 165.1  , 170.95 ,\n",
       "       157.1  , 138.175, 144.825, 144.1  , 151.1  , 157.55 , 155.325,\n",
       "       168.925, 170.1  , 161.975, 178.375, 178.625, 154.2  , 149.675,\n",
       "       153.95 , 156.925, 180.375, 166.975, 161.5  , 168.05 , 171.5  ,\n",
       "       138.05 , 158.35 , 176.8  , 172.675, 166.5  , 150.375, 159.725,\n",
       "       165.6  , 168.475, 152.625, 168.4  , 173.4  , 190.25 , 160.875,\n",
       "       179.175, 172.1  , 158.625, 178.325, 164.25 , 173.7  , 165.35 ,\n",
       "       169.8  , 176.75 , 184.175, 167.85 , 172.875, 150.975, 146.025,\n",
       "       170.8  , 176.75 , 158.8  , 165.35 , 165.925, 185.675, 182.25 ,\n",
       "       163.35 , 182.425, 173.225, 180.95 , 161.625, 160.5  , 145.35 ,\n",
       "       162.775, 156.125, 147.425, 168.35 , 148.325, 171.3  , 171.25 ,\n",
       "       170.125, 166.875, 182.675, 173.65 , 172.675, 165.075, 167.   ,\n",
       "       174.875, 174.2  , 170.625, 184.575, 175.275, 167.05 , 155.7  ,\n",
       "       156.65 , 159.275, 172.675, 155.925, 155.725, 171.7  , 155.125,\n",
       "       175.925, 155.275, 173.775, 164.5  , 160.425, 152.075, 167.625,\n",
       "       172.875, 166.325, 164.075, 170.3  , 165.9  , 162.   , 157.5  ,\n",
       "       184.6  , 174.85 , 163.175, 160.35 , 129.   , 157.625, 142.05 ,\n",
       "       139.525, 151.5  , 161.15 , 160.525, 160.475, 173.375, 171.425,\n",
       "       164.275, 168.   , 142.725, 157.35 , 172.65 , 165.175, 170.275,\n",
       "       168.075, 160.6  , 166.375, 178.9  , 181.975, 167.7  , 180.45 ,\n",
       "       158.225, 148.325, 171.375, 163.2  , 175.4  , 181.65 , 176.6  ,\n",
       "       169.675, 151.375, 157.75 , 178.75 , 168.6  , 152.025, 159.9  ,\n",
       "       161.975, 169.35 , 173.1  , 170.25 , 150.425, 161.625, 168.025,\n",
       "       170.875, 165.8  , 168.625, 158.325, 171.775, 181.475, 169.625,\n",
       "       162.525, 159.325, 160.175, 163.5  , 149.7  , 169.425, 160.375,\n",
       "       167.525, 170.4  , 174.1  , 165.175, 161.3  , 159.125, 181.65 ,\n",
       "       172.625, 173.8  , 159.35 , 143.825, 145.125, 143.225, 166.3  ,\n",
       "       162.45 , 148.425, 177.675, 175.1  , 157.35 , 167.225, 168.15 ,\n",
       "       177.65 , 180.45 , 177.3  , 177.625, 175.825, 171.9  , 170.375,\n",
       "       177.85 , 173.025, 158.65 , 148.6  , 148.475, 155.275, 159.2  ,\n",
       "       165.675, 161.375, 149.625, 146.8  , 155.225, 181.9  , 168.2  ,\n",
       "       173.325, 158.175, 161.875, 174.95 , 172.65 , 163.525, 165.775,\n",
       "       170.75 , 172.025, 173.3  , 162.3  , 175.125, 185.2  , 171.325,\n",
       "       167.175, 170.45 , 150.95 , 145.025, 143.7  , 146.65 , 166.65 ,\n",
       "       161.925, 153.675, 155.45 , 156.8  , 161.5  , 167.975, 162.025,\n",
       "       171.925, 170.   , 175.175, 174.75 , 169.425, 156.1  , 168.05 ,\n",
       "       157.1  , 159.35 , 162.1  , 185.6  , 173.7  , 161.4  , 163.75 ,\n",
       "       176.725, 154.25 , 169.625, 185.225, 169.675, 161.375, 180.5  ,\n",
       "       160.575, 153.3  , 150.25 , 135.025, 156.175, 159.625, 162.05 ,\n",
       "       156.625, 146.7  , 160.025, 167.75 , 147.   , 157.85 , 145.275,\n",
       "       160.225, 153.425, 162.4  , 165.25 , 159.4  , 153.075, 161.   ,\n",
       "       163.275, 164.7  , 158.25 , 167.75 , 154.95 , 165.975, 153.3  ,\n",
       "       172.525, 161.275, 151.65 , 164.75 , 161.75 , 144.575, 164.975,\n",
       "       172.15 , 156.25 , 150.95 , 158.75 ])"
      ]
     },
     "execution_count": 357,
     "metadata": {},
     "output_type": "execute_result"
    }
   ],
   "source": [
    "#the estimated expected balance of all trial solutions\n",
    "Estimated_Expected_balance"
   ]
  },
  {
   "cell_type": "code",
   "execution_count": null,
   "metadata": {},
   "outputs": [],
   "source": []
  }
 ],
 "metadata": {
  "kernelspec": {
   "display_name": "Python 3",
   "language": "python",
   "name": "python3"
  },
  "language_info": {
   "codemirror_mode": {
    "name": "ipython",
    "version": 3
   },
   "file_extension": ".py",
   "mimetype": "text/x-python",
   "name": "python",
   "nbconvert_exporter": "python",
   "pygments_lexer": "ipython3",
   "version": "3.5.2"
  }
 },
 "nbformat": 4,
 "nbformat_minor": 2
}
