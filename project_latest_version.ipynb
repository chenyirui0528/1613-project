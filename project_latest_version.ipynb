{
 "cells": [
  {
   "cell_type": "code",
   "execution_count": 252,
   "metadata": {
    "scrolled": false
   },
   "outputs": [],
   "source": [
    "import SimFunctions\n",
    "import SimRNG \n",
    "import SimClasses\n",
    "import numpy as np\n",
    "import pandas as pd\n",
    "#import matplotlib.pyplot as plt\n",
    "import scipy.stats as stats"
   ]
  },
  {
   "cell_type": "code",
   "execution_count": 253,
   "metadata": {},
   "outputs": [
    {
     "data": {
      "text/plain": [
       "7:00-7:20     1.869565\n",
       "7:20-7:40     4.967391\n",
       "7:40-8:00     7.923913\n",
       "8:00-8:20     4.619565\n",
       "8:20-8:40     6.086957\n",
       "8:40-9:00     4.717391\n",
       "9:00-9:20     3.478261\n",
       "9:20-9:40     3.217391\n",
       "9:40-10:00    1.706522\n",
       "dtype: float64"
      ]
     },
     "execution_count": 253,
     "metadata": {},
     "output_type": "execute_result"
    }
   ],
   "source": [
    "import xlrd\n",
    "# Read the data file we got through data cleaning. \n",
    "wb = xlrd.open_workbook('BikeRentCount.xlsx')\n",
    "# The file consists of five sheets and each sheet contains data for one station.\n",
    "sheets = wb.sheet_names()\n",
    "MaxRentingRate=[]\n",
    "RentingRate=[]\n",
    "for i in range(len(sheets)):\n",
    "    data = pd.read_excel('BikeRentCount.xlsx', sheet_name=sheets[i])\n",
    "    #Calculate the average number of rented bikes for each twenty minutes of each station.\n",
    "    rentingRates = data.mean()\n",
    "    RentingRate.append(rentingRates)\n",
    "    # Find the maximum of these rates that would be used for function NSPP\n",
    "    maxRentingRate = max(rentingRates)\n",
    "    MaxRentingRate.append(maxRentingRate)\n",
    "    \n",
    "# Example: the number of rented bikes at Station 2 for every 20 minutes (indexing from 0) \n",
    "RentingRate[1]"
   ]
  },
  {
   "cell_type": "code",
   "execution_count": 254,
   "metadata": {},
   "outputs": [
    {
     "data": {
      "text/plain": [
       "4.717391304347826"
      ]
     },
     "execution_count": 254,
     "metadata": {},
     "output_type": "execute_result"
    }
   ],
   "source": [
    "# Example: the number of rented bikes at Station 2(indexing from 0) during time 8:40-9:00\n",
    "RentingRate[1][5]"
   ]
  },
  {
   "cell_type": "code",
   "execution_count": 255,
   "metadata": {},
   "outputs": [
    {
     "data": {
      "text/plain": [
       "7.923913043478261"
      ]
     },
     "execution_count": 255,
     "metadata": {},
     "output_type": "execute_result"
    }
   ],
   "source": [
    "# Example: the maximum number of rented bikes at station 2(indexing from 0)\n",
    "MaxRentingRate[1]"
   ]
  },
  {
   "cell_type": "code",
   "execution_count": 256,
   "metadata": {},
   "outputs": [],
   "source": [
    "# Similar data processing for 'BikeReturnCount.xlsx'\n",
    "wb = xlrd.open_workbook('BikeReturnCount.xlsx')\n",
    "sheets = wb.sheet_names()\n",
    "MaxReturnRate=[]\n",
    "ReturnRate=[]\n",
    "for i in range(len(sheets)):\n",
    "    data = pd.read_excel('BikeReturnCount.xlsx', sheet_name=sheets[i])\n",
    "    returnRates = data.mean()\n",
    "    ReturnRate.append(returnRates)\n",
    "    maxReturnRate = max(returnRates)\n",
    "    MaxReturnRate.append(maxReturnRate)"
   ]
  },
  {
   "cell_type": "markdown",
   "metadata": {},
   "source": [
    "# Simulation constants"
   ]
  },
  {
   "cell_type": "code",
   "execution_count": 318,
   "metadata": {},
   "outputs": [],
   "source": [
    "order_threshold = 5.0 #schedule the \"rebalancing\" once the number of bikes is less than the threshold\n",
    "order_up_to = 10.0 # the number of bikes in the station would reach 5 after rebalancing\n",
    "delivery_delay = 20 # it takes 20 minutes for bikes to be transported to the station for bike rebalancing\n",
    "SIM_RUN = 10 #number of simulation runs\n",
    "operation_cost = 2 # USD per bike for operation\n",
    "oil_gas = 3 # USD per 1 refillment\n",
    "service_fee = 3.75 # USD per bike per ride\n",
    "PENALTY = 3 # CAD for cost of loss of business oportunity\n",
    "loss_profit = 0.01 # CAD per bike per minute for loss of business opportunity\n",
    "RunLength = 180 # 3 hours"
   ]
  },
  {
   "cell_type": "code",
   "execution_count": 350,
   "metadata": {},
   "outputs": [],
   "source": [
    "def Rental(**kwargs):\n",
    "    global revenue, penalty, Loss_profit\n",
    "    #Check which station the rental event occurs in\n",
    "    station_id = kwargs['stationID']\n",
    "    Pickup_queue = kwargs[\"pickup_queue\"]\n",
    "    Dropoff_queue = kwargs[\"dropoff_queue\"]\n",
    "    #Use NSPP to schedule the next bike rental event for current station\n",
    "    interarrival = NSPP(station_id,MaxRentingRate,RentingRate)\n",
    "    SimFunctions.Schedule(Calendar,\"Rent a bike\",interarrival,stationID = station_id,pickup_queue = TheQueues[station_id],dropoff_queue = TheQueues[station_id+5])\n",
    "\n",
    "    # Checks if there are people waiting to put the bikes back.\n",
    "    if Dropoff_queue.NumQueue() > 0:\n",
    "        DepartingCustomer = Dropoff_queue.Remove()\n",
    "        Waiting_time = SimClasses.Clock - DepartingCustomer.CreateTime\n",
    "        Wait.Record(SimClasses.Clock - DepartingCustomer.CreateTime)\n",
    "        # If customer has waited too long to return the bike, refund is given.\n",
    "        # The customer gets the bike from the people waiting to put the bikes back.\n",
    "        if Waiting_time >5:\n",
    "            penalty += service_fee\n",
    "            \n",
    "    #If no one is waiting to put the bikes back,\n",
    "    #check if there are bikes available and update number of bikes for the station.\n",
    "    else:\n",
    "        if Num_bikes[station_id]>0:\n",
    "            Num_bikes[station_id]-=1\n",
    "            # Customer pays to rent bike.\n",
    "            revenue += service_fee\n",
    "        #No bikes available so the customer begins waiting for bikes to become available.\n",
    "        else:\n",
    "            Customer = SimClasses.Entity()\n",
    "            Pickup_queue.Add(Customer)\n",
    "            \n",
    "    #Schedule the bike rebalancing event once the number of bikes is less than the threshold \n",
    "    \"\"\"\n",
    "    There are two conditions to be met for the rebalancing operation. Schedule the rebalancing operation \n",
    "    once the number of bikes is less than the threshold and the previous rebalance operation has ended. \n",
    "    \"\"\"\n",
    "    if Num_bikes[station_id] <= order_threshold and quantity[station_id] == 0:\n",
    "        quantity[station_id] = order_up_to - Num_bikes[station_id]\n",
    "        SimFunctions.Schedule(Calendar,\"rebalancing\",delivery_delay,stationID=station_id,pickup_queue = TheQueues[station_id],dropoff_queue = TheQueues[station_id+5],num_ordered=quantity[station_id])"
   ]
  },
  {
   "cell_type": "code",
   "execution_count": 331,
   "metadata": {},
   "outputs": [],
   "source": [
    "def RideEnd(**kwargs):\n",
    "    global  revenue, penalty, Loss_profit\n",
    "    station_id = kwargs['stationID']\n",
    "    Dropoff_queue = kwargs['dropoff_queue']\n",
    "    Pickup_queue = kwargs['pickup_queue']\n",
    "     ##Use NSPP to schedule the next end of ride for current station\n",
    "    interarrival = NSPP(station_id,MaxReturnRate,ReturnRate)\n",
    "    SimFunctions.Schedule(Calendar,\"Return a bike\",interarrival,stationID = station_id,pickup_queue = TheQueues[station_id],dropoff_queue = TheQueues[station_id+5])\n",
    "    \n",
    "    # We assume not every customer will wait for a bike and eventually take a bike.Customers leave after 5 mins.\n",
    "    while(True):\n",
    "        # Check if customers are waiting.\n",
    "        if Pickup_queue.NumQueue() == 0:\n",
    "            #If no one is waiting to pick up the bike,check if there are empty racks to keep the bike.   \n",
    "            if Num_bikes[station_id] < Num_docks[station_id]:\n",
    "                # Customer returns the bike to the rack.\n",
    "                Num_bikes[station_id] += 1\n",
    "            # No empty racks. The customer begins waiting in queue.\n",
    "            else:\n",
    "                Customer = SimClasses.Entity()\n",
    "                Dropoff_queue.Add(Customer)\n",
    "            break\n",
    "        #If there are customers waiting to pick up the bike,\n",
    "        #check if the customer has left due to waiting too long to pick up the bike.\n",
    "        DepartingCustomer = Pickup_queue.Remove()\n",
    "        Waiting_time = SimClasses.Clock - DepartingCustomer.CreateTime\n",
    "        Wait.Record(SimClasses.Clock - DepartingCustomer.CreateTime)\n",
    "        if Waiting_time < 5:\n",
    "            # Next waiting customer gets a bike from the customer who has finished the ride.\n",
    "            # Break the while loop.\n",
    "            break\n",
    "        else:\n",
    "            # We lose a customer because the customer has waited too long\n",
    "            penalty += PENALTY"
   ]
  },
  {
   "cell_type": "code",
   "execution_count": 332,
   "metadata": {},
   "outputs": [],
   "source": [
    "def rebalancing(**kwargs):\n",
    "    global revenue , cost, Loss_profit,penalty\n",
    "    station_id = kwargs['stationID']\n",
    "    Dropoff_queue = kwargs['dropoff_queue']\n",
    "    Pickup_queue = kwargs['pickup_queue']\n",
    "    #The number of bikes needed for bike rebalancing\n",
    "    num_ordered = kwargs['num_ordered']\n",
    "    #Cost due to bike rebalanccing\n",
    "    cost += (num_ordered * operation_cost) + oil_gas \n",
    "    #The number of bikes changes after the rebalancing operation\n",
    "    Num_bikes[station_id] += num_ordered\n",
    "    # We assume not every customer will wait for a bike and eventually take a bike..Customers leave after 5 mins.\n",
    "    while(True):\n",
    "        # Check if customers are waiting in the pick_up queue and if the ordered number of bikes is in short supply.\n",
    "        if (Pickup_queue.NumQueue() == 0.0) | (Num_bikes[station_id] == 0.0):\n",
    "            break\n",
    "\n",
    "        DepartingCustomer = Pickup_queue.Remove()\n",
    "        Waiting_time = SimClasses.Clock - DepartingCustomer.CreateTime\n",
    "        Wait.Record(SimClasses.Clock - DepartingCustomer.CreateTime)\n",
    "        if Waiting_time < 5:\n",
    "            # Next waiting customer gets a bike\n",
    "             Num_bikes[station_id] -= 1\n",
    "        else:\n",
    "            # We lose a customer\n",
    "            penalty += PENALTY\n",
    "\n",
    "    #Set the num_oredered to zero so the current rebalancing operation is over.\n",
    "    quantity[station_id] = 0"
   ]
  },
  {
   "cell_type": "code",
   "execution_count": 333,
   "metadata": {},
   "outputs": [],
   "source": [
    "# Prevent index out of range\n",
    "\n",
    "def PW_ArrRate(p,t,Rates):\n",
    "    hour = int(t/20)\n",
    "    if hour <= 8:\n",
    "        return Rates[p][hour]\n",
    "    else:\n",
    "        return Rates[p][-1]\n"
   ]
  },
  {
   "cell_type": "code",
   "execution_count": 334,
   "metadata": {},
   "outputs": [],
   "source": [
    "def NSPP(q,MaxRate,Rate):\n",
    "    PossibleArrival = SimClasses.Clock + SimRNG.Expon(1/(MaxRate[q]/20), 1)\n",
    "    while SimRNG.Uniform(0, 1, 1) >= PW_ArrRate(q,PossibleArrival,Rate)/(MaxRate[q]):\n",
    "        PossibleArrival = PossibleArrival + SimRNG.Expon(1/(MaxRate[q]/20), 1)\n",
    "    nspp = PossibleArrival - SimClasses.Clock\n",
    "    return nspp"
   ]
  },
  {
   "cell_type": "code",
   "execution_count": 335,
   "metadata": {},
   "outputs": [
    {
     "data": {
      "text/plain": [
       "480"
      ]
     },
     "execution_count": 335,
     "metadata": {},
     "output_type": "execute_result"
    }
   ],
   "source": [
    "# Get all trial solution \n",
    "trial_solution = []\n",
    "for a in range(5,15):\n",
    "    for b in range(5,27):\n",
    "        for c in range(5,11):\n",
    "            for d in range(5,15):\n",
    "                for e in range(5,15):\n",
    "                    # Initial number of bikes available in the system.\n",
    "                    if (a+b+c+d+e)==70:\n",
    "                        trial_solution.append([a,b,c,d,e])\n",
    "len(trial_solution)"
   ]
  },
  {
   "cell_type": "code",
   "execution_count": 351,
   "metadata": {},
   "outputs": [],
   "source": [
    "Calendar = SimClasses.EventCalendar()\n",
    "Wait = SimClasses.DTStat()\n",
    "\n",
    "Pickup_Queue1 = SimClasses.FIFOQueue()\n",
    "Pickup_Queue2 = SimClasses.FIFOQueue()\n",
    "Pickup_Queue3 = SimClasses.FIFOQueue()\n",
    "Pickup_Queue4 = SimClasses.FIFOQueue()\n",
    "Pickup_Queue5 = SimClasses.FIFOQueue()\n",
    "\n",
    "Dropoff_Queue1 = SimClasses.FIFOQueue()\n",
    "Dropoff_Queue2 = SimClasses.FIFOQueue()\n",
    "Dropoff_Queue3 = SimClasses.FIFOQueue()\n",
    "Dropoff_Queue4 = SimClasses.FIFOQueue()\n",
    "Dropoff_Queue5 = SimClasses.FIFOQueue()\n",
    "\n",
    "TheCTStats = []\n",
    "TheDTStats = []\n",
    "TheQueues = []\n",
    "TheResources = []\n",
    "\n",
    "TheQueues.append(Pickup_Queue1)\n",
    "TheQueues.append(Pickup_Queue2)\n",
    "TheQueues.append(Pickup_Queue3)\n",
    "TheQueues.append(Pickup_Queue4)\n",
    "TheQueues.append(Pickup_Queue5)\n",
    "TheQueues.append(Dropoff_Queue1)\n",
    "TheQueues.append(Dropoff_Queue2)\n",
    "TheQueues.append(Dropoff_Queue3)\n",
    "TheQueues.append(Dropoff_Queue4)\n",
    "TheQueues.append(Dropoff_Queue5)\n",
    "\n",
    "TheDTStats.append(Wait)\n",
    "\n",
    "AllWaitMean = np.zeros((SIM_RUN,len(trial_solution)))\n",
    "\n",
    "ZSimRNG = SimRNG.InitializeRNSeed()\n",
    "\n",
    "#Create an 2d array to record the balance of each trial solution in each simulation run\n",
    "output = np.zeros((SIM_RUN,len(trial_solution)))\n",
    "for k in range(SIM_RUN):\n",
    "    for j in range(len(trial_solution)):\n",
    "        Num_bikes=[]\n",
    "        initial_Num_bikes=[]\n",
    "        #Apply the our model to each trial solution\n",
    "        for i in range(0,5,1):\n",
    "            Num_bikes.append(trial_solution[j][i])\n",
    "            initial_Num_bikes.append(trial_solution[j][i])\n",
    "        # Number of bike racks (total) at each station. This is the maximum parking\n",
    "        # capacity for every station.\n",
    "        Num_docks=[15,27,11,15,15]\n",
    "        #initial number of ordered bikes for rebalancing\n",
    "        quantity=[0,0,0,0,0]\n",
    "        revenue = 0\n",
    "        cost = 0\n",
    "        penalty = 0\n",
    "        Loss_profit = 0\n",
    "\n",
    "        SimClasses.Clock = 0.0\n",
    "        SimFunctions.SimFunctionsInit(Calendar,TheQueues,TheCTStats,TheDTStats,TheResources)\n",
    "        for i in range(0,5,1):\n",
    "            #Use NSPP to schedule the first arrival for each station.\n",
    "            #Initialize queues at each station.\n",
    "            SimFunctions.Schedule(Calendar,\"Rent a bike\",NSPP(i,MaxRentingRate,RentingRate),stationID = i,pickup_queue = TheQueues[i],dropoff_queue = TheQueues[i+5])\n",
    "            SimFunctions.Schedule(Calendar,\"Return a bike\",NSPP(i,MaxReturnRate,ReturnRate),stationID = i,pickup_queue = TheQueues[i],dropoff_queue = TheQueues[i+5]) \n",
    "        SimFunctions.Schedule(Calendar,\"EndSimulation\",RunLength)\n",
    "        NextEvent = Calendar.Remove()\n",
    "        SimClasses.Clock = NextEvent.EventTime\n",
    "        if NextEvent.EventType == \"Rent a bike\":\n",
    "            Rental(**NextEvent.kwargs)\n",
    "        elif NextEvent.EventType == \"Return a bike\":\n",
    "            RideEnd(**NextEvent.kwargs)\n",
    "        elif NextEvent.EventType == \"rebalancing\":\n",
    "            rebalancing(**NextEvent.kwargs)\n",
    "\n",
    "        while NextEvent.EventType != \"EndSimulation\":\n",
    "            NextEvent = Calendar.Remove()\n",
    "            SimClasses.Clock = NextEvent.EventTime\n",
    "            if NextEvent.EventType == \"Rent a bike\":\n",
    "                Rental(**NextEvent.kwargs)\n",
    "            elif NextEvent.EventType == \"Return a bike\":\n",
    "                RideEnd(**NextEvent.kwargs)\n",
    "            elif NextEvent.EventType == \"rebalancing\":\n",
    "                rebalancing(**NextEvent.kwargs)\n",
    "        repositioning_bikes= (abs(np.array(Num_bikes)-np.array(initial_Num_bikes)).sum())\n",
    "        cost += (repositioning_bikes * operation_cost) + oil_gas \n",
    "        balance = revenue - cost - penalty - Loss_profit\n",
    "        output[k][j]= balance\n",
    "        AllWaitMean[k][j] = Wait.Mean()\n",
    "\n",
    "\n"
   ]
  },
  {
   "cell_type": "code",
   "execution_count": 352,
   "metadata": {},
   "outputs": [
    {
     "data": {
      "text/plain": [
       "array([[187.25, 151.  , 170.5 , ..., 200.5 , 158.  , 195.25],\n",
       "       [155.75, 120.5 , 177.  , ..., 161.75, 146.75, 177.25],\n",
       "       [143.  , 158.5 , 173.  , ...,  99.  , 159.25, 158.  ],\n",
       "       ...,\n",
       "       [180.75, 120.25, 162.  , ..., 193.75, 145.5 , 146.25],\n",
       "       [122.75, 165.  , 134.5 , ..., 209.5 , 157.  , 187.5 ],\n",
       "       [154.25, 136.75, 148.5 , ..., 135.  , 141.25, 143.25]])"
      ]
     },
     "execution_count": 352,
     "metadata": {},
     "output_type": "execute_result"
    }
   ],
   "source": [
    "output"
   ]
  },
  {
   "cell_type": "code",
   "execution_count": 356,
   "metadata": {},
   "outputs": [
    {
     "data": {
      "text/plain": [
       "array([[ 0.        , 18.7115286 , 15.37531993, ...,  0.        ,\n",
       "        21.96521418,  4.61418236],\n",
       "       [ 0.        , 21.23296163, 12.40094521, ..., 34.02634907,\n",
       "        25.04008151,  9.26252572],\n",
       "       [13.80984385, 11.88478011,  1.79072886, ..., 18.92836138,\n",
       "        14.58184105,  9.34044501],\n",
       "       ...,\n",
       "       [37.17612842, 35.66504066, 16.43514841, ...,  2.11240261,\n",
       "        32.34306876,  0.        ],\n",
       "       [50.46385118, 29.49521446, 21.16419971, ...,  0.        ,\n",
       "         2.03539243,  2.85539226],\n",
       "       [14.48166639, 18.8992971 , 69.33925762, ..., 11.8653238 ,\n",
       "         9.02600328, 15.8995623 ]])"
      ]
     },
     "execution_count": 356,
     "metadata": {},
     "output_type": "execute_result"
    }
   ],
   "source": [
    "AllWaitMean"
   ]
  },
  {
   "cell_type": "code",
   "execution_count": 353,
   "metadata": {},
   "outputs": [
    {
     "data": {
      "text/plain": [
       "[14, 25, 9, 12, 10]"
      ]
     },
     "execution_count": 353,
     "metadata": {},
     "output_type": "execute_result"
    }
   ],
   "source": [
    "#Get the the expectation by calculating the mean over all simulation runs for each trial solution\n",
    "Estimated_Expected_waittime=np.mean(AllWaitMean,axis=0)\n",
    "#Get the best solution to minimize customers waiting time. \n",
    "trial_solution[np.argmin(Estimated_Expected_waittime)]"
   ]
  },
  {
   "cell_type": "code",
   "execution_count": 354,
   "metadata": {},
   "outputs": [
    {
     "data": {
      "text/plain": [
       "[13, 21, 9, 14, 13]"
      ]
     },
     "execution_count": 354,
     "metadata": {},
     "output_type": "execute_result"
    }
   ],
   "source": [
    "#Get the the expectation by calculating the mean over all simulation runs for each trial solution\n",
    "Estimated_Expected_balance=np.mean(output,axis=0)\n",
    "#Get the best solution to maximize the balance.\n",
    "trial_solution[np.argmax(Estimated_Expected_balance)]"
   ]
  },
  {
   "cell_type": "code",
   "execution_count": 322,
   "metadata": {},
   "outputs": [
    {
     "data": {
      "text/plain": [
       "array([181.575, 187.525, 190.425, 199.45 , 186.225, 187.925, 200.95 ,\n",
       "       225.95 , 184.025, 197.825, 209.85 , 188.1  , 198.025, 199.2  ,\n",
       "       194.25 , 209.275, 201.275, 209.25 , 198.55 , 204.6  , 201.75 ,\n",
       "       211.425, 215.85 , 197.325, 205.1  , 210.675, 197.95 , 196.325,\n",
       "       181.525, 177.9  , 212.525, 218.2  , 202.175, 222.9  , 182.375,\n",
       "       203.6  , 196.15 , 206.775, 194.025, 186.25 , 206.925, 209.45 ,\n",
       "       200.05 , 219.175, 206.25 , 216.075, 209.525, 220.325, 222.825,\n",
       "       223.25 , 214.7  , 230.475, 199.525, 210.925, 204.775, 181.15 ,\n",
       "       180.35 , 192.425, 191.1  , 204.9  , 204.45 , 223.1  , 210.625,\n",
       "       216.075, 196.475, 200.975, 211.875, 223.475, 228.75 , 199.825,\n",
       "       201.775, 198.75 , 216.375, 203.15 , 203.275, 211.675, 208.85 ,\n",
       "       218.55 , 221.125, 199.075, 200.725, 227.05 , 186.55 , 185.575,\n",
       "       217.95 , 190.925, 230.975, 227.65 , 219.8  , 220.7  , 208.575,\n",
       "       207.25 , 192.425, 220.5  , 194.5  , 199.925, 222.15 , 215.75 ,\n",
       "       221.1  , 194.575, 221.95 , 216.9  , 197.175, 209.75 , 205.65 ,\n",
       "       193.625, 183.95 , 199.575, 202.225, 208.175, 202.35 , 195.   ,\n",
       "       204.625, 206.85 , 195.075, 215.225, 212.175, 202.325, 225.525,\n",
       "       191.25 , 208.65 , 217.025, 208.8  , 220.65 , 226.675, 222.2  ,\n",
       "       195.35 , 210.775, 208.875, 218.675, 195.725, 214.75 , 219.175,\n",
       "       214.475, 213.15 , 204.875, 200.375, 204.175, 223.6  , 218.2  ,\n",
       "       221.9  , 213.35 , 213.075, 229.775, 234.725, 204.025, 186.375,\n",
       "       198.525, 196.55 , 229.9  , 202.85 , 207.925, 223.9  , 212.575,\n",
       "       219.1  , 190.35 , 213.7  , 218.775, 228.65 , 209.525, 203.425,\n",
       "       167.55 , 200.   , 189.65 , 211.725, 203.3  , 206.45 , 216.575,\n",
       "       213.75 , 225.475, 182.55 , 216.975, 217.35 , 208.85 , 216.725,\n",
       "       205.475, 206.425, 218.425, 219.125, 201.875, 212.425, 200.3  ,\n",
       "       201.125, 202.275, 201.175, 219.075, 192.675, 199.675, 219.775,\n",
       "       207.95 , 196.15 , 209.   , 217.3  , 202.3  , 222.675, 217.85 ,\n",
       "       208.425, 210.675, 219.925, 199.25 , 191.375, 195.75 , 204.4  ,\n",
       "       215.2  , 199.05 , 231.575, 194.   , 206.075, 205.925, 204.5  ,\n",
       "       193.2  , 209.75 , 199.2  , 211.35 , 198.55 , 218.5  , 202.5  ,\n",
       "       212.6  , 192.35 , 205.025, 210.375, 210.425, 214.15 , 214.4  ,\n",
       "       197.325, 230.175, 221.975, 200.875, 198.325, 201.225, 211.4  ,\n",
       "       197.05 , 206.475, 212.6  , 202.475, 222.575, 204.7  , 212.825,\n",
       "       192.5  , 229.325, 218.   , 215.675, 212.55 , 209.425, 190.05 ,\n",
       "       189.575, 187.95 , 219.45 , 213.35 , 205.6  , 220.475, 218.825,\n",
       "       193.5  , 195.225, 209.875, 198.65 , 219.55 , 227.725, 210.95 ,\n",
       "       234.075, 226.675, 225.475, 206.575, 205.6  , 201.725, 206.225,\n",
       "       188.05 , 198.4  , 218.25 , 206.1  , 214.425, 213.375, 204.475,\n",
       "       188.275, 215.975, 218.45 , 205.35 , 216.875, 217.875, 224.575,\n",
       "       242.5  , 230.775, 218.025, 196.65 , 204.25 , 223.025, 212.35 ,\n",
       "       216.85 , 230.   , 211.625, 205.375, 205.575, 197.75 , 214.275,\n",
       "       186.25 , 202.025, 211.7  , 211.325, 210.45 , 192.975, 214.325,\n",
       "       211.85 , 201.95 , 168.65 , 231.4  , 211.5  , 213.275, 177.9  ,\n",
       "       209.8  , 211.15 , 213.875, 236.375, 203.05 , 222.125, 210.3  ,\n",
       "       204.75 , 176.2  , 195.85 , 229.7  , 212.425, 212.525, 227.475,\n",
       "       210.725, 206.75 , 215.8  , 196.1  , 208.25 , 223.375, 197.575,\n",
       "       203.625, 196.6  , 213.4  , 227.525, 216.825, 211.6  , 188.325,\n",
       "       209.2  , 201.275, 215.55 , 205.15 , 197.9  , 230.95 , 212.175,\n",
       "       210.4  , 193.825, 200.3  , 216.2  , 197.425, 219.05 , 220.85 ,\n",
       "       207.05 , 211.775, 226.275, 211.3  , 207.8  , 215.825, 216.025,\n",
       "       217.325, 216.55 , 213.425, 204.75 , 204.025, 183.8  , 218.2  ,\n",
       "       199.875, 195.375, 231.575, 216.175, 207.15 , 204.55 , 213.5  ,\n",
       "       226.325, 217.475, 212.25 , 219.875, 225.5  , 220.65 , 210.2  ,\n",
       "       207.4  , 208.075, 195.725, 208.25 , 206.2  , 226.725, 201.225,\n",
       "       195.975, 225.   , 218.425, 227.85 , 200.475, 201.   , 204.35 ,\n",
       "       208.775, 206.025, 189.2  , 216.45 , 210.525, 213.2  , 210.925,\n",
       "       216.75 , 194.2  , 229.45 , 220.25 , 223.5  , 214.2  , 215.225,\n",
       "       214.625, 228.6  , 226.6  , 214.625, 176.55 , 209.325, 216.2  ,\n",
       "       205.925, 214.55 , 205.5  , 213.775, 219.9  , 219.75 , 199.425,\n",
       "       226.95 , 214.45 , 211.35 , 202.6  , 207.375, 207.775, 229.525,\n",
       "       212.075, 213.4  , 228.3  , 196.6  , 211.975, 183.775, 223.6  ,\n",
       "       207.775, 215.775, 230.325, 209.175, 212.2  , 208.425, 178.5  ,\n",
       "       196.675, 194.55 , 204.525, 196.85 , 202.825, 214.525, 205.925,\n",
       "       236.7  , 216.975, 197.775, 221.575, 234.875, 218.25 , 218.425,\n",
       "       206.85 , 224.075, 233.2  , 219.475, 212.4  , 209.25 , 198.175,\n",
       "       193.35 , 205.35 , 195.55 , 226.45 , 213.475, 218.4  , 211.65 ,\n",
       "       200.475, 200.525, 183.55 , 217.475, 226.1  , 222.9  , 212.55 ,\n",
       "       210.7  , 204.525, 199.1  , 183.4  ])"
      ]
     },
     "execution_count": 322,
     "metadata": {},
     "output_type": "execute_result"
    }
   ],
   "source": [
    "#the estimated expected balance of all trial solutions\n",
    "Estimated_Expected_balance"
   ]
  },
  {
   "cell_type": "code",
   "execution_count": null,
   "metadata": {},
   "outputs": [],
   "source": []
  }
 ],
 "metadata": {
  "kernelspec": {
   "display_name": "Python 3",
   "language": "python",
   "name": "python3"
  },
  "language_info": {
   "codemirror_mode": {
    "name": "ipython",
    "version": 3
   },
   "file_extension": ".py",
   "mimetype": "text/x-python",
   "name": "python",
   "nbconvert_exporter": "python",
   "pygments_lexer": "ipython3",
   "version": "3.5.2"
  }
 },
 "nbformat": 4,
 "nbformat_minor": 2
}
