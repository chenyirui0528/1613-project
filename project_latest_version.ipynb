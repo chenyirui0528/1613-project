{
 "cells": [
  {
   "cell_type": "code",
   "execution_count": 252,
   "metadata": {
    "scrolled": false
   },
   "outputs": [],
   "source": [
    "import SimFunctions\n",
    "import SimRNG \n",
    "import SimClasses\n",
    "import numpy as np\n",
    "import pandas as pd\n",
    "#import matplotlib.pyplot as plt\n",
    "import scipy.stats as stats"
   ]
  },
  {
   "cell_type": "code",
   "execution_count": 253,
   "metadata": {},
   "outputs": [
    {
     "data": {
      "text/plain": [
       "7:00-7:20     1.869565\n",
       "7:20-7:40     4.967391\n",
       "7:40-8:00     7.923913\n",
       "8:00-8:20     4.619565\n",
       "8:20-8:40     6.086957\n",
       "8:40-9:00     4.717391\n",
       "9:00-9:20     3.478261\n",
       "9:20-9:40     3.217391\n",
       "9:40-10:00    1.706522\n",
       "dtype: float64"
      ]
     },
     "execution_count": 253,
     "metadata": {},
     "output_type": "execute_result"
    }
   ],
   "source": [
    "import xlrd\n",
    "# Read the data file we got through data cleaning. \n",
    "wb = xlrd.open_workbook('BikeRentCount.xlsx')\n",
    "# The file consists of five sheets and each sheet contains data for one station.\n",
    "sheets = wb.sheet_names()\n",
    "MaxRentingRate=[]\n",
    "RentingRate=[]\n",
    "for i in range(len(sheets)):\n",
    "    data = pd.read_excel('BikeRentCount.xlsx', sheet_name=sheets[i])\n",
    "    #Calculate the average number of rented bikes for each twenty minutes of each station.\n",
    "    rentingRates = data.mean()\n",
    "    RentingRate.append(rentingRates)\n",
    "    # Find the maximum of these rates that would be used for function NSPP\n",
    "    maxRentingRate = max(rentingRates)\n",
    "    MaxRentingRate.append(maxRentingRate)\n",
    "    \n",
    "# Example: the number of rented bikes at Station 2 for every 20 minutes (indexing from 0) \n",
    "RentingRate[1]"
   ]
  },
  {
   "cell_type": "code",
   "execution_count": 254,
   "metadata": {},
   "outputs": [
    {
     "data": {
      "text/plain": [
       "4.717391304347826"
      ]
     },
     "execution_count": 254,
     "metadata": {},
     "output_type": "execute_result"
    }
   ],
   "source": [
    "# Example: the number of rented bikes at Station 2(indexing from 0) during time 8:40-9:00\n",
    "RentingRate[1][5]"
   ]
  },
  {
   "cell_type": "code",
   "execution_count": 255,
   "metadata": {},
   "outputs": [
    {
     "data": {
      "text/plain": [
       "7.923913043478261"
      ]
     },
     "execution_count": 255,
     "metadata": {},
     "output_type": "execute_result"
    }
   ],
   "source": [
    "# Example: the maximum number of rented bikes at station 2(indexing from 0)\n",
    "MaxRentingRate[1]"
   ]
  },
  {
   "cell_type": "code",
   "execution_count": 256,
   "metadata": {},
   "outputs": [],
   "source": [
    "# Similar data processing for 'BikeReturnCount.xlsx'\n",
    "wb = xlrd.open_workbook('BikeReturnCount.xlsx')\n",
    "sheets = wb.sheet_names()\n",
    "MaxReturnRate=[]\n",
    "ReturnRate=[]\n",
    "for i in range(len(sheets)):\n",
    "    data = pd.read_excel('BikeReturnCount.xlsx', sheet_name=sheets[i])\n",
    "    returnRates = data.mean()\n",
    "    ReturnRate.append(returnRates)\n",
    "    maxReturnRate = max(returnRates)\n",
    "    MaxReturnRate.append(maxReturnRate)"
   ]
  },
  {
   "cell_type": "markdown",
   "metadata": {},
   "source": [
    "# Simulation constants"
   ]
  },
  {
   "cell_type": "code",
   "execution_count": 318,
   "metadata": {},
   "outputs": [],
   "source": [
    "order_threshold = 5.0 #schedule the \"rebalancing\" once the number of bikes is less than the threshold\n",
    "order_up_to = 10.0 # the number of bikes in the station would reach 5 after rebalancing\n",
    "delivery_delay = 20 # it takes 20 minutes for bikes to be transported to the station for bike rebalancing\n",
    "SIM_RUN = 10 #number of simulation runs\n",
    "operation_cost = 2 # USD per bike for operation\n",
    "oil_gas = 3 # USD per 1 refillment\n",
    "service_fee = 3.75 # USD per bike per ride\n",
    "PENALTY = 3 # CAD for cost of loss of business oportunity\n",
    "loss_profit = 0.01 # CAD per bike per minute for loss of business opportunity\n",
    "RunLength = 180 # 3 hours"
   ]
  },
  {
   "cell_type": "code",
   "execution_count": 371,
   "metadata": {},
   "outputs": [],
   "source": [
    "def Rental(**kwargs):\n",
    "    global revenue, penalty, Loss_profit\n",
    "    #Check which station the rental event occurs in\n",
    "    station_id = kwargs['stationID']\n",
    "    Pickup_queue = kwargs[\"pickup_queue\"]\n",
    "    Dropoff_queue = kwargs[\"dropoff_queue\"]\n",
    "    #Use NSPP to schedule the next bike rental event for current station\n",
    "    interarrival = NSPP(station_id,MaxRentingRate,RentingRate)\n",
    "    SimFunctions.Schedule(Calendar,\"Rent a bike\",interarrival,stationID = station_id,pickup_queue = TheQueues[station_id],dropoff_queue = TheQueues[station_id+5])\n",
    "\n",
    "    # Checks if there are people waiting to put the bikes back.\n",
    "    if Dropoff_queue.NumQueue() > 0:\n",
    "        DepartingCustomer = Dropoff_queue.Remove()\n",
    "        Waiting_time = SimClasses.Clock - DepartingCustomer.CreateTime\n",
    "        Wait.Record(SimClasses.Clock - DepartingCustomer.CreateTime)\n",
    "        # If customer has waited too long to return the bike, refund is given.\n",
    "        # The customer gets the bike from the people waiting to put the bikes back.\n",
    "        if Waiting_time >5:\n",
    "            penalty += service_fee\n",
    "            \n",
    "    #If no one is waiting to put the bikes back,\n",
    "    #check if there are bikes available and update number of bikes for the station.\n",
    "    else:\n",
    "        if Num_bikes[station_id]>0:\n",
    "            Num_bikes[station_id]-=1\n",
    "            # Customer pays to rent bike.\n",
    "            revenue += service_fee\n",
    "        #No bikes available so the customer begins waiting for bikes to become available.\n",
    "        else:\n",
    "            Customer = SimClasses.Entity()\n",
    "            Pickup_queue.Add(Customer)\n",
    "            \n",
    "    #Schedule the bike rebalancing event once the number of bikes is less than the threshold \n",
    "    \"\"\"\n",
    "    There are two conditions to be met for the rebalancing operation. Schedule the rebalancing operation \n",
    "    once the number of bikes is less than the threshold and the previous rebalance operation has ended. \n",
    "    \"\"\"\n",
    "    if Num_bikes[station_id] <= order_threshold and quantity[station_id] == 0:\n",
    "        quantity[station_id] = order_up_to - Num_bikes[station_id]\n",
    "        SimFunctions.Schedule(Calendar,\"rebalancing\",delivery_delay,stationID=station_id,pickup_queue = TheQueues[station_id],dropoff_queue = TheQueues[station_id+5],num_ordered=quantity[station_id], signal= -1)"
   ]
  },
  {
   "cell_type": "code",
   "execution_count": 372,
   "metadata": {},
   "outputs": [],
   "source": [
    "def RideEnd(**kwargs):\n",
    "    global  revenue, penalty, Loss_profit\n",
    "    station_id = kwargs['stationID']\n",
    "    Dropoff_queue = kwargs['dropoff_queue']\n",
    "    Pickup_queue = kwargs['pickup_queue']\n",
    "     ##Use NSPP to schedule the next end of ride for current station\n",
    "    interarrival = NSPP(station_id,MaxReturnRate,ReturnRate)\n",
    "    SimFunctions.Schedule(Calendar,\"Return a bike\",interarrival,stationID = station_id,pickup_queue = TheQueues[station_id],dropoff_queue = TheQueues[station_id+5])\n",
    "    \n",
    "    # We assume not every customer will wait for a bike and eventually take a bike.Customers leave after 5 mins.\n",
    "    while(True):\n",
    "        # Check if customers are waiting.\n",
    "        if Pickup_queue.NumQueue() == 0:\n",
    "            #If no one is waiting to pick up the bike,check if there are empty racks to keep the bike.   \n",
    "            if Num_bikes[station_id] < Num_docks[station_id]:\n",
    "                # Customer returns the bike to the rack.\n",
    "                Num_bikes[station_id] += 1\n",
    "            # No empty racks. The customer begins waiting in queue.\n",
    "            else:\n",
    "                Customer = SimClasses.Entity()\n",
    "                Dropoff_queue.Add(Customer)\n",
    "            break\n",
    "        #If there are customers waiting to pick up the bike,\n",
    "        #check if the customer has left due to waiting too long to pick up the bike.\n",
    "        DepartingCustomer = Pickup_queue.Remove()\n",
    "        Waiting_time = SimClasses.Clock - DepartingCustomer.CreateTime\n",
    "        Wait.Record(SimClasses.Clock - DepartingCustomer.CreateTime)\n",
    "        if Waiting_time < 5:\n",
    "            # Next waiting customer gets a bike from the customer who has finished the ride.\n",
    "            # Break the while loop.\n",
    "            break\n",
    "        else:\n",
    "            # We lose a customer because the customer has waited too long\n",
    "            penalty += PENALTY\n",
    "            \n",
    "    if Dropoff_queue.NumQueue() >= order_threshold and quantity[station_id] == 0:\n",
    "        quantity[station_id] = Dropoff_queue.NumQueue()\n",
    "        SimFunctions.Schedule(Calendar,\"rebalancing\",delivery_delay,stationID=station_id,pickup_queue = TheQueues[station_id],dropoff_queue = TheQueues[station_id+5],num_ordered=quantity[station_id], signal= 1)"
   ]
  },
  {
   "cell_type": "code",
   "execution_count": 378,
   "metadata": {},
   "outputs": [],
   "source": [
    "def rebalancing(**kwargs):\n",
    "    global revenue , cost, Loss_profit,penalty\n",
    "    station_id = kwargs['stationID']\n",
    "    Dropoff_queue = kwargs['dropoff_queue']\n",
    "    Pickup_queue = kwargs['pickup_queue']\n",
    "    #The number of bikes needed for bike rebalancing\n",
    "    Num_ordered = kwargs['num_ordered']\n",
    "    Signal = kwargs['signal']\n",
    "    #Cost due to bike rebalanccing\n",
    "    cost += (Num_ordered * operation_cost) + oil_gas \n",
    "    # Signal is -1 means the station is almost out of bikes for customers renting bikes, \n",
    "    # then the center will carry bikes to the station \n",
    "    if Signal == -1:\n",
    "        #The number of bikes changes after the rebalancing operation\n",
    "        Num_bikes[station_id] += Num_ordered\n",
    "        # We assume not every customer will wait for a bike and eventually take a bike..Customers leave after 5 mins.\n",
    "        while(True):\n",
    "            # Check if customers are waiting in the pick_up queue and if the ordered number of bikes is in short supply.\n",
    "            if (Pickup_queue.NumQueue() == 0.0) | (Num_bikes[station_id] == 0.0):\n",
    "                break\n",
    "\n",
    "            DepartingCustomer = Pickup_queue.Remove()\n",
    "            Waiting_time = SimClasses.Clock - DepartingCustomer.CreateTime\n",
    "            Wait.Record(SimClasses.Clock - DepartingCustomer.CreateTime)\n",
    "            if Waiting_time < 5:\n",
    "                # Next waiting customer gets a bike\n",
    "                 Num_bikes[station_id] -= 1\n",
    "            else:\n",
    "                # We lose a customer\n",
    "                penalty += PENALTY\n",
    "    # Signal is +1 means the station is out of racks for customers returning bikes, \n",
    "    # then the center will carry bikes back to the center             \n",
    "    else:\n",
    "        while(True):\n",
    "            # Check if customers are waiting in the Dropoff queue\n",
    "            if (Dropoff_queue.NumQueue() == 0.0)| (Num_ordered==0.0):\n",
    "                break\n",
    "\n",
    "            DepartingCustomer = Dropoff_queue.Remove()\n",
    "            Num_ordered-=1\n",
    "            Waiting_time = SimClasses.Clock - DepartingCustomer.CreateTime\n",
    "            Wait.Record(SimClasses.Clock - DepartingCustomer.CreateTime)\n",
    "            if Waiting_time > 5:\n",
    "                # If customer has waited too long to return the bike, refund is given.\n",
    "                 penalty += service_fee\n",
    "        Num_bikes[station_id] -= Num_ordered\n",
    "    #Set the num_oredered to zero so the current rebalancing operation is over.\n",
    "    quantity[station_id] = 0"
   ]
  },
  {
   "cell_type": "code",
   "execution_count": 379,
   "metadata": {},
   "outputs": [],
   "source": [
    "# Prevent index out of range\n",
    "\n",
    "def PW_ArrRate(p,t,Rates):\n",
    "    hour = int(t/20)\n",
    "    if hour <= 8:\n",
    "        return Rates[p][hour]\n",
    "    else:\n",
    "        return Rates[p][-1]\n"
   ]
  },
  {
   "cell_type": "code",
   "execution_count": 380,
   "metadata": {},
   "outputs": [],
   "source": [
    "def NSPP(q,MaxRate,Rate):\n",
    "    PossibleArrival = SimClasses.Clock + SimRNG.Expon(1/(MaxRate[q]/20), 1)\n",
    "    while SimRNG.Uniform(0, 1, 1) >= PW_ArrRate(q,PossibleArrival,Rate)/(MaxRate[q]):\n",
    "        PossibleArrival = PossibleArrival + SimRNG.Expon(1/(MaxRate[q]/20), 1)\n",
    "    nspp = PossibleArrival - SimClasses.Clock\n",
    "    return nspp"
   ]
  },
  {
   "cell_type": "code",
   "execution_count": 381,
   "metadata": {},
   "outputs": [
    {
     "data": {
      "text/plain": [
       "480"
      ]
     },
     "execution_count": 381,
     "metadata": {},
     "output_type": "execute_result"
    }
   ],
   "source": [
    "# Get all trial solution \n",
    "trial_solution = []\n",
    "for a in range(5,15):\n",
    "    for b in range(5,27):\n",
    "        for c in range(5,11):\n",
    "            for d in range(5,15):\n",
    "                for e in range(5,15):\n",
    "                    # Initial number of bikes available in the system.\n",
    "                    if (a+b+c+d+e)==70:\n",
    "                        trial_solution.append([a,b,c,d,e])\n",
    "len(trial_solution)"
   ]
  },
  {
   "cell_type": "code",
   "execution_count": 382,
   "metadata": {},
   "outputs": [],
   "source": [
    "Calendar = SimClasses.EventCalendar()\n",
    "Wait = SimClasses.DTStat()\n",
    "\n",
    "Pickup_Queue1 = SimClasses.FIFOQueue()\n",
    "Pickup_Queue2 = SimClasses.FIFOQueue()\n",
    "Pickup_Queue3 = SimClasses.FIFOQueue()\n",
    "Pickup_Queue4 = SimClasses.FIFOQueue()\n",
    "Pickup_Queue5 = SimClasses.FIFOQueue()\n",
    "\n",
    "Dropoff_Queue1 = SimClasses.FIFOQueue()\n",
    "Dropoff_Queue2 = SimClasses.FIFOQueue()\n",
    "Dropoff_Queue3 = SimClasses.FIFOQueue()\n",
    "Dropoff_Queue4 = SimClasses.FIFOQueue()\n",
    "Dropoff_Queue5 = SimClasses.FIFOQueue()\n",
    "\n",
    "TheCTStats = []\n",
    "TheDTStats = []\n",
    "TheQueues = []\n",
    "TheResources = []\n",
    "\n",
    "TheQueues.append(Pickup_Queue1)\n",
    "TheQueues.append(Pickup_Queue2)\n",
    "TheQueues.append(Pickup_Queue3)\n",
    "TheQueues.append(Pickup_Queue4)\n",
    "TheQueues.append(Pickup_Queue5)\n",
    "TheQueues.append(Dropoff_Queue1)\n",
    "TheQueues.append(Dropoff_Queue2)\n",
    "TheQueues.append(Dropoff_Queue3)\n",
    "TheQueues.append(Dropoff_Queue4)\n",
    "TheQueues.append(Dropoff_Queue5)\n",
    "\n",
    "TheDTStats.append(Wait)\n",
    "\n",
    "AllWaitMean = np.zeros((SIM_RUN,len(trial_solution)))\n",
    "\n",
    "ZSimRNG = SimRNG.InitializeRNSeed()\n",
    "\n",
    "#Create an 2d array to record the balance of each trial solution in each simulation run\n",
    "output = np.zeros((SIM_RUN,len(trial_solution)))\n",
    "for k in range(SIM_RUN):\n",
    "    for j in range(len(trial_solution)):\n",
    "        Num_bikes=[]\n",
    "        initial_Num_bikes=[]\n",
    "        #Apply the our model to each trial solution\n",
    "        for i in range(0,5,1):\n",
    "            Num_bikes.append(trial_solution[j][i])\n",
    "            initial_Num_bikes.append(trial_solution[j][i])\n",
    "        # Number of bike racks (total) at each station. This is the maximum parking\n",
    "        # capacity for every station.\n",
    "        Num_docks=[15,27,11,15,15]\n",
    "        #initial number of ordered bikes for rebalancing\n",
    "        quantity=[0,0,0,0,0]\n",
    "        revenue = 0\n",
    "        cost = 0\n",
    "        penalty = 0\n",
    "        Loss_profit = 0\n",
    "\n",
    "        SimClasses.Clock = 0.0\n",
    "        SimFunctions.SimFunctionsInit(Calendar,TheQueues,TheCTStats,TheDTStats,TheResources)\n",
    "        for i in range(0,5,1):\n",
    "            #Use NSPP to schedule the first arrival for each station.\n",
    "            #Initialize queues at each station.\n",
    "            SimFunctions.Schedule(Calendar,\"Rent a bike\",NSPP(i,MaxRentingRate,RentingRate),stationID = i,pickup_queue = TheQueues[i],dropoff_queue = TheQueues[i+5])\n",
    "            SimFunctions.Schedule(Calendar,\"Return a bike\",NSPP(i,MaxReturnRate,ReturnRate),stationID = i,pickup_queue = TheQueues[i],dropoff_queue = TheQueues[i+5]) \n",
    "        SimFunctions.Schedule(Calendar,\"EndSimulation\",RunLength)\n",
    "        NextEvent = Calendar.Remove()\n",
    "        SimClasses.Clock = NextEvent.EventTime\n",
    "        if NextEvent.EventType == \"Rent a bike\":\n",
    "            Rental(**NextEvent.kwargs)\n",
    "        elif NextEvent.EventType == \"Return a bike\":\n",
    "            RideEnd(**NextEvent.kwargs)\n",
    "        elif NextEvent.EventType == \"rebalancing\":\n",
    "            rebalancing(**NextEvent.kwargs)\n",
    "\n",
    "        while NextEvent.EventType != \"EndSimulation\":\n",
    "            NextEvent = Calendar.Remove()\n",
    "            SimClasses.Clock = NextEvent.EventTime\n",
    "            if NextEvent.EventType == \"Rent a bike\":\n",
    "                Rental(**NextEvent.kwargs)\n",
    "            elif NextEvent.EventType == \"Return a bike\":\n",
    "                RideEnd(**NextEvent.kwargs)\n",
    "            elif NextEvent.EventType == \"rebalancing\":\n",
    "                rebalancing(**NextEvent.kwargs)\n",
    "        repositioning_bikes= (abs(np.array(Num_bikes)-np.array(initial_Num_bikes)).sum())\n",
    "        cost += (repositioning_bikes * operation_cost) + oil_gas \n",
    "        balance = revenue - cost - penalty - Loss_profit\n",
    "        output[k][j]= balance\n",
    "        AllWaitMean[k][j] = Wait.Mean()\n",
    "\n",
    "\n"
   ]
  },
  {
   "cell_type": "code",
   "execution_count": 383,
   "metadata": {},
   "outputs": [
    {
     "data": {
      "text/plain": [
       "array([[149.75, 122.  , 122.5 , ..., 130.5 , 184.75, 109.  ],\n",
       "       [ 77.25, 159.  , 141.25, ..., 183.25, 182.25, 103.  ],\n",
       "       [148.  , 117.75, 181.75, ..., 183.  , 129.5 , 201.  ],\n",
       "       ...,\n",
       "       [129.5 , 131.5 , 144.  , ..., 166.25,  72.75,  69.75],\n",
       "       [164.75, 141.25, 112.5 , ..., 130.75, 138.75, 206.  ],\n",
       "       [115.25, 164.75, 150.  , ..., 194.5 , 110.25, 157.5 ]])"
      ]
     },
     "execution_count": 383,
     "metadata": {},
     "output_type": "execute_result"
    }
   ],
   "source": [
    "output"
   ]
  },
  {
   "cell_type": "code",
   "execution_count": 389,
   "metadata": {},
   "outputs": [
    {
     "data": {
      "text/plain": [
       "array([[23.21249451, 28.28540802, 37.01267943, ..., 23.44500593,\n",
       "         4.33035119, 29.4044925 ],\n",
       "       [32.54382519, 16.34786507,  6.84090783, ...,  0.        ,\n",
       "        60.25112755, 30.99510175],\n",
       "       [17.55548069, 39.69494135,  0.        , ..., 11.08027038,\n",
       "         9.99187396,  0.        ],\n",
       "       ...,\n",
       "       [ 7.1130627 ,  8.88566258, 10.70282784, ...,  9.12929153,\n",
       "        17.44885468, 35.90025892],\n",
       "       [ 0.19580383,  2.11226214, 14.41100774, ...,  0.        ,\n",
       "         0.        ,  8.01076486],\n",
       "       [38.77886165,  1.50146179, 15.1446977 , ...,  0.        ,\n",
       "        19.32024466, 10.71327351]])"
      ]
     },
     "execution_count": 389,
     "metadata": {},
     "output_type": "execute_result"
    }
   ],
   "source": [
    "AllWaitMean"
   ]
  },
  {
   "cell_type": "code",
   "execution_count": 385,
   "metadata": {},
   "outputs": [
    {
     "data": {
      "text/plain": [
       "[11, 25, 10, 11, 13]"
      ]
     },
     "execution_count": 385,
     "metadata": {},
     "output_type": "execute_result"
    }
   ],
   "source": [
    "#Get the the expectation by calculating the mean over all simulation runs for each trial solution\n",
    "Estimated_Expected_waittime=np.mean(AllWaitMean,axis=0)\n",
    "#Get the best solution to minimize customers waiting time. \n",
    "trial_solution[np.argmin(Estimated_Expected_waittime)]"
   ]
  },
  {
   "cell_type": "code",
   "execution_count": 386,
   "metadata": {},
   "outputs": [
    {
     "data": {
      "text/plain": [
       "[14, 24, 10, 11, 11]"
      ]
     },
     "execution_count": 386,
     "metadata": {},
     "output_type": "execute_result"
    }
   ],
   "source": [
    "#Get the the expectation by calculating the mean over all simulation runs for each trial solution\n",
    "Estimated_Expected_balance=np.mean(output,axis=0)\n",
    "#Get the best solution to maximize the balance.\n",
    "trial_solution[np.argmax(Estimated_Expected_balance)]"
   ]
  },
  {
   "cell_type": "code",
   "execution_count": 387,
   "metadata": {},
   "outputs": [
    {
     "data": {
      "text/plain": [
       "array([139.55 , 142.775, 145.375, 144.65 , 168.25 , 147.1  , 146.7  ,\n",
       "       169.25 , 167.225, 138.15 , 148.475, 146.725, 143.5  , 155.1  ,\n",
       "       160.35 , 155.675, 161.775, 166.2  , 158.65 , 160.125, 143.1  ,\n",
       "       161.325, 168.675, 148.6  , 159.625, 152.925, 151.525, 140.425,\n",
       "       172.025, 151.05 , 141.1  , 176.225, 166.075, 157.725, 155.225,\n",
       "       157.15 , 152.1  , 162.525, 162.45 , 159.075, 162.775, 165.1  ,\n",
       "       168.85 , 168.05 , 172.1  , 147.325, 148.325, 159.35 , 172.775,\n",
       "       154.375, 175.475, 148.6  , 176.575, 175.75 , 175.9  , 136.825,\n",
       "       125.7  , 149.275, 171.5  , 159.325, 158.525, 186.825, 165.75 ,\n",
       "       166.275, 144.925, 172.725, 179.625, 152.75 , 171.3  , 162.625,\n",
       "       179.05 , 155.125, 167.3  , 161.1  , 166.8  , 157.45 , 167.925,\n",
       "       177.775, 171.725, 167.275, 133.9  , 163.7  , 157.475, 176.425,\n",
       "       173.3  , 163.425, 175.475, 177.075, 149.95 , 157.625, 155.45 ,\n",
       "       148.975, 131.15 , 159.825, 173.125, 164.675, 151.75 , 160.275,\n",
       "       171.725, 144.45 , 182.5  , 182.55 , 179.725, 167.575, 162.85 ,\n",
       "       130.375, 148.075, 155.8  , 160.325, 153.875, 146.475, 139.475,\n",
       "       149.725, 163.475, 147.425, 173.375, 168.05 , 177.75 , 169.175,\n",
       "       138.475, 162.575, 171.05 , 180.925, 165.15 , 144.375, 142.65 ,\n",
       "       179.925, 170.075, 153.65 , 165.175, 132.7  , 182.125, 157.4  ,\n",
       "       180.5  , 165.   , 166.9  , 154.05 , 156.   , 178.775, 159.475,\n",
       "       167.   , 155.075, 147.65 , 166.225, 157.825, 162.3  , 136.05 ,\n",
       "       160.75 , 141.975, 161.875, 166.05 , 166.1  , 164.8  , 173.275,\n",
       "       176.6  , 160.525, 187.975, 180.35 , 175.275, 166.525, 155.675,\n",
       "       162.1  , 143.45 , 160.65 , 158.875, 168.875, 161.425, 157.775,\n",
       "       157.25 , 152.95 , 154.55 , 154.1  , 181.55 , 148.925, 164.4  ,\n",
       "       165.55 , 166.675, 177.175, 188.85 , 172.3  , 178.7  , 171.425,\n",
       "       135.225, 141.275, 153.2  , 146.55 , 159.15 , 166.825, 153.075,\n",
       "       170.05 , 160.525, 165.6  , 171.225, 181.05 , 163.825, 165.75 ,\n",
       "       167.725, 169.775, 164.9  , 179.95 , 158.925, 168.325, 167.6  ,\n",
       "       181.575, 172.875, 173.05 , 158.9  , 151.375, 140.225, 156.025,\n",
       "       164.425, 180.775, 166.8  , 163.65 , 177.85 , 157.475, 169.975,\n",
       "       173.85 , 171.95 , 153.15 , 153.4  , 171.275, 181.75 , 162.   ,\n",
       "       147.075, 180.125, 177.325, 150.4  , 174.025, 141.35 , 150.525,\n",
       "       152.425, 167.075, 156.15 , 163.25 , 175.55 , 166.825, 167.5  ,\n",
       "       183.825, 168.625, 177.925, 166.575, 184.15 , 163.75 , 143.1  ,\n",
       "       140.125, 154.4  , 150.8  , 173.175, 165.5  , 165.05 , 172.425,\n",
       "       170.55 , 156.925, 175.425, 189.05 , 170.05 , 173.55 , 155.2  ,\n",
       "       178.9  , 172.2  , 176.65 , 179.85 , 163.05 , 152.875, 137.75 ,\n",
       "       138.475, 165.375, 147.975, 138.225, 149.25 , 144.975, 164.775,\n",
       "       152.45 , 176.225, 159.75 , 170.4  , 160.275, 156.175, 178.4  ,\n",
       "       164.8  , 177.825, 150.475, 179.025, 151.075, 169.325, 159.225,\n",
       "       170.575, 164.025, 169.9  , 156.7  , 162.7  , 143.2  , 143.55 ,\n",
       "       123.575, 164.5  , 162.375, 136.125, 152.65 , 173.85 , 173.75 ,\n",
       "       177.15 , 137.225, 149.975, 170.675, 173.   , 177.925, 154.425,\n",
       "       169.425, 156.375, 174.5  , 171.15 , 172.425, 180.65 , 167.225,\n",
       "       161.95 , 148.375, 163.95 , 157.95 , 188.675, 174.725, 182.025,\n",
       "       167.325, 161.4  , 122.05 , 151.6  , 181.2  , 164.95 , 147.15 ,\n",
       "       160.575, 167.025, 166.55 , 174.125, 159.225, 174.8  , 157.875,\n",
       "       173.725, 166.55 , 164.375, 160.775, 176.775, 170.   , 169.2  ,\n",
       "       181.7  , 140.575, 151.175, 160.55 , 144.625, 152.825, 167.125,\n",
       "       159.2  , 161.925, 184.4  , 151.3  , 169.475, 168.2  , 177.85 ,\n",
       "       161.775, 143.   , 162.35 , 140.1  , 143.3  , 145.55 , 172.625,\n",
       "       169.275, 151.3  , 171.55 , 172.45 , 161.85 , 166.025, 167.95 ,\n",
       "       162.85 , 167.775, 162.85 , 165.725, 181.1  , 166.775, 186.275,\n",
       "       156.25 , 154.575, 159.575, 167.325, 134.975, 171.375, 166.35 ,\n",
       "       137.15 , 171.05 , 167.275, 169.625, 169.075, 174.775, 151.6  ,\n",
       "       168.175, 152.625, 170.425, 163.65 , 172.875, 177.3  , 170.35 ,\n",
       "       173.625, 168.05 , 167.925, 163.825, 179.3  , 191.9  , 164.1  ,\n",
       "       137.95 , 146.975, 131.775, 159.15 , 138.025, 145.35 , 167.125,\n",
       "       134.325, 135.875, 155.125, 170.4  , 177.75 , 170.25 , 150.475,\n",
       "       166.   , 176.6  , 169.35 , 153.275, 139.2  , 145.275, 158.65 ,\n",
       "       163.   , 183.025, 162.8  , 179.45 , 158.925, 163.425, 157.2  ,\n",
       "       165.975, 174.3  , 177.4  , 163.775, 178.875, 173.25 , 152.95 ,\n",
       "       152.625, 145.575, 155.325, 143.8  , 141.1  , 160.325, 153.825,\n",
       "       150.65 , 130.625, 126.825, 146.75 , 170.075, 148.45 , 155.475,\n",
       "       135.075, 162.725, 156.225, 159.3  , 176.025, 150.45 , 158.5  ,\n",
       "       131.825, 175.025, 161.65 , 156.025, 180.5  , 167.075, 157.55 ,\n",
       "       155.5  , 152.325, 161.4  , 169.075, 177.425, 149.25 , 157.75 ,\n",
       "       169.025, 166.3  , 132.725, 145.425])"
      ]
     },
     "execution_count": 387,
     "metadata": {},
     "output_type": "execute_result"
    }
   ],
   "source": [
    "#the estimated expected balance of all trial solutions\n",
    "Estimated_Expected_balance"
   ]
  },
  {
   "cell_type": "code",
   "execution_count": null,
   "metadata": {},
   "outputs": [],
   "source": []
  }
 ],
 "metadata": {
  "kernelspec": {
   "display_name": "Python 3",
   "language": "python",
   "name": "python3"
  },
  "language_info": {
   "codemirror_mode": {
    "name": "ipython",
    "version": 3
   },
   "file_extension": ".py",
   "mimetype": "text/x-python",
   "name": "python",
   "nbconvert_exporter": "python",
   "pygments_lexer": "ipython3",
   "version": "3.5.2"
  }
 },
 "nbformat": 4,
 "nbformat_minor": 2
}
