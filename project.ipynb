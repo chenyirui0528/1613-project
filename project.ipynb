{
 "cells": [
  {
   "cell_type": "code",
   "execution_count": 1,
   "metadata": {},
   "outputs": [
    {
     "name": "stderr",
     "output_type": "stream",
     "text": [
      "\n",
      "Bad key \"lines.markerfacecolor\" on line 11 in\n",
      "C:\\Users\\Administrator\\AppData\\Roaming\\Python\\Python35\\site-packages\\matplotlib\\mpl-data\\stylelib\\classic.mplstyle.\n",
      "You probably need to get an updated matplotlibrc file from\n",
      "http://github.com/matplotlib/matplotlib/blob/master/matplotlibrc.template\n",
      "or from the matplotlib source distribution\n",
      "\n",
      "Bad key \"lines.markeredgecolor\" on line 12 in\n",
      "C:\\Users\\Administrator\\AppData\\Roaming\\Python\\Python35\\site-packages\\matplotlib\\mpl-data\\stylelib\\classic.mplstyle.\n",
      "You probably need to get an updated matplotlibrc file from\n",
      "http://github.com/matplotlib/matplotlib/blob/master/matplotlibrc.template\n",
      "or from the matplotlib source distribution\n"
     ]
    }
   ],
   "source": [
    "import SimFunctions\n",
    "import SimRNG \n",
    "import SimClasses\n",
    "import numpy as np\n",
    "import pandas\n",
    "import matplotlib.pyplot as plt\n",
    "import scipy.stats as stats"
   ]
  },
  {
   "cell_type": "code",
   "execution_count": 56,
   "metadata": {},
   "outputs": [],
   "source": [
    "\n",
    "#ZSimRNG = SimRNG.InitializeRNSeed()\n",
    "Queue = SimClasses.FIFOQueue()\n",
    "Wait = SimClasses.DTStat()\n",
    "Server = SimClasses.Resource()\n",
    "Calendar = SimClasses.EventCalendar()\n",
    "\n",
    "TheCTStats = []\n",
    "TheDTStats = []\n",
    "TheQueues = []\n",
    "TheResources = []\n",
    "\n",
    "TheDTStats.append(Wait)\n",
    "TheQueues.append(Queue)\n",
    "TheResources.append(Server)\n",
    "\n",
    "Server.SetUnits (1) "
   ]
  },
  {
   "cell_type": "code",
   "execution_count": 57,
   "metadata": {},
   "outputs": [],
   "source": [
    "order_threshold = 2.0\n",
    "order_up_to = 5.0 \n",
    "delivery_delay = 20 # in minutes\n",
    "SIM_RUN = 1000  #number of simulation runs\n",
    "initial_bikes = 15\n",
    "operation_cost = 2 # USD per bike for operation\n",
    "oil_gas = 3 # USD per 1 refillment\n",
    "service_fee = 3 # USD per bike per ride\n",
    "PENALTY = 3 # USD for cost of loss of business oportunity\n",
    "loss_profit = 0.1 # USD per bike per minute for loss of business opportunity\n",
    "RunLength = 180.0"
   ]
  },
  {
   "cell_type": "code",
   "execution_count": 58,
   "metadata": {},
   "outputs": [],
   "source": [
    "def Arrival(_lambda ,requirement):\n",
    "    global num_bikes, revenue, penalty, Loss_profit\n",
    "    interarrival = SimRNG.Expon(1./_lambda,1)\n",
    "    SimFunctions.Schedule(Calendar,requirement,interarrival)\n",
    "    Loss_profit += loss_profit * num_bikes * interarrival\n",
    "    if requirement == 'Rent a bike':\n",
    "        if num_bikes > 0:\n",
    "            num_bikes -= 1\n",
    "            revenue += service_fee\n",
    "        else:\n",
    "            penalty += PENALTY\n",
    "            \n",
    "    else:\n",
    "        num_bikes += 1\n",
    "    "
   ]
  },
  {
   "cell_type": "code",
   "execution_count": 59,
   "metadata": {},
   "outputs": [],
   "source": [
    "def rebalancing(quantity):\n",
    "    global num_bikes, num_ordered, revenue , cost, Loss_profit\n",
    "    \n",
    "    num_ordered = quantity\n",
    "    cost += (num_ordered * operation_cost) + oil_gas \n",
    "\n",
    "    num_bikes += num_ordered\n",
    "#    print (\" Fill bikes up to ={}\".format(num_bikes))\n",
    "    num_ordered = 0"
   ]
  },
  {
   "cell_type": "code",
   "execution_count": 60,
   "metadata": {},
   "outputs": [],
   "source": [
    "def citibike_run(_lambda ,requirement, order_up_to, order_threshold):\n",
    "    global num_bikes, quantity, num_ordered, revenue , cost, penalty, Loss_profit\n",
    "    num_ordered = 0.0\n",
    "    quantity = 0.0\n",
    "    #while True:\n",
    "        \n",
    "    Arrival(_lambda ,requirement)\n",
    "        \n",
    "    get_bikes.append(num_bikes)\n",
    "    if num_bikes <= order_threshold and num_ordered == 0:\n",
    "        quantity = order_up_to - num_bikes\n",
    "        SimFunctions.Schedule(Calendar,\"rebalancing\",delivery_delay)"
   ]
  },
  {
   "cell_type": "code",
   "execution_count": 61,
   "metadata": {},
   "outputs": [],
   "source": [
    "def observe():\n",
    "\n",
    "    while True:\n",
    "\n",
    "        obs_time.append(SimClasses.Clock)\n",
    "        obs_bikes.append(num_bikes)\n",
    "        obs_balance.append(revenue - cost - penalty - Loss_profit)"
   ]
  },
  {
   "cell_type": "code",
   "execution_count": 62,
   "metadata": {},
   "outputs": [],
   "source": [
    "avg_bikes = []\n",
    "avg_balance = []\n",
    "get_balance = []"
   ]
  },
  {
   "cell_type": "code",
   "execution_count": 66,
   "metadata": {},
   "outputs": [],
   "source": [
    "for i in range(SIM_RUN):\n",
    "    np.random.seed(i)\n",
    "    num_bikes = initial_bikes\n",
    "    revenue = 0\n",
    "    cost = 0\n",
    "    penalty = 0\n",
    "    Loss_profit = 0\n",
    "    obs_time = []\n",
    "    obs_bikes = []\n",
    "    obs_balance = []\n",
    "    get_bikes = []\n",
    "\n",
    "    SimFunctions.SimFunctionsInit(Calendar,TheQueues,TheCTStats,TheDTStats,TheResources)\n",
    "    citibike_run(1.572 ,'Rent a bike', order_up_to, order_threshold)\n",
    "    citibike_run(1.183 ,'Return a bike', order_up_to, order_threshold)\n",
    "    SimFunctions.Schedule(Calendar,\"EndSimulation\",RunLength)\n",
    "    \n",
    "    NextEvent = Calendar.Remove()\n",
    "    SimClasses.Clock = NextEvent.EventTime\n",
    "    if NextEvent.EventType == 'Rent a bike':\n",
    "        citibike_run(1.572 ,'Rent a bike', order_up_to, order_threshold)\n",
    "    elif NextEvent.EventType == 'Return a bike':\n",
    "        citibike_run(1.183 ,'Return a bike', order_up_to, order_threshold)\n",
    "    else:\n",
    "        rebalancing(quantity)\n",
    "\n",
    "    while NextEvent.EventType != \"EndSimulation\":\n",
    "        NextEvent = Calendar.Remove()\n",
    "        SimClasses.Clock = NextEvent.EventTime\n",
    "        if NextEvent.EventType == 'Rent a bike':\n",
    "            citibike_run(1.572 ,'Rent a bike', order_up_to, order_threshold)\n",
    "        elif NextEvent.EventType == 'Return a bike':\n",
    "            citibike_run(1.183 ,'Return a bike', order_up_to, order_threshold)\n",
    "        else:\n",
    "            rebalancing(quantity)\n",
    "\n",
    "    avg_bikes.append(np.mean(get_bikes))\n",
    "    avg_balance.append(revenue - cost - penalty - Loss_profit)\n"
   ]
  },
  {
   "cell_type": "code",
   "execution_count": 67,
   "metadata": {},
   "outputs": [
    {
     "name": "stderr",
     "output_type": "stream",
     "text": [
      "No handles with labels found to put in legend.\n"
     ]
    },
    {
     "name": "stdout",
     "output_type": "stream",
     "text": [
      "The average number of available bikes during the interval =  7.5889929813365375\n"
     ]
    },
    {
     "data": {
      "image/png": "[encoded data removed]",
      "text/plain": [
       "<Figure size 432x288 with 1 Axes>"
      ]
     },
     "metadata": {
      "needs_background": "light"
     },
     "output_type": "display_data"
    },
    {
     "data": {
      "image/png": "[encoded data removed]",
      "text/plain": [
       "<Figure size 432x288 with 1 Axes>"
      ]
     },
     "metadata": {
      "needs_background": "light"
     },
     "output_type": "display_data"
    }
   ],
   "source": [
    "if SIM_RUN > 1:    \n",
    "    print (\"The average number of available bikes during the interval = \", np.mean(avg_bikes))\n",
    "    plt.figure()\n",
    "    plt.scatter(range(len(avg_bikes)), avg_bikes, c='b', alpha=0.4)    \n",
    "    plt.xlabel('Simulation runs')\n",
    "    plt.ylabel('Bike Level')\n",
    "    plt.title('Average Bike levels at each runs (Threshold= {:.0f}, order-up-to= {:.0f})'.format(order_threshold, order_up_to))\n",
    "    plt.savefig('Average bike level.png')\n",
    "    \n",
    "    plt.figure()\n",
    "    plt.hist( avg_bikes, color='g')\n",
    "    plt.xlabel('X Bin')\n",
    "    plt.ylabel('Count')\n",
    "    plt.title(' Histogram (average number of bike)(Threshold= {:.0f}, order-up-to= {:.0f})'.format(order_threshold, order_up_to))\n",
    "    plt.legend(loc='best')\n",
    "    plt.savefig('Histogram Average bike level.png')"
   ]
  },
  {
   "cell_type": "code",
   "execution_count": 20,
   "metadata": {},
   "outputs": [
    {
     "data": {
      "text/plain": [
       "[10.726744186046512,\n",
       " 6.527272727272727,\n",
       " 5.357723577235772,\n",
       " 7.438223938223938,\n",
       " 6.344262295081967,\n",
       " 6.16044776119403,\n",
       " 6.734151329243354,\n",
       " 4.294,\n",
       " 9.350293542074365,\n",
       " 9.765350877192983]"
      ]
     },
     "execution_count": 20,
     "metadata": {},
     "output_type": "execute_result"
    }
   ],
   "source": [
    "avg_bikes"
   ]
  },
  {
   "cell_type": "code",
   "execution_count": 21,
   "metadata": {},
   "outputs": [
    {
     "data": {
      "text/plain": [
       "[105.30687824825122,\n",
       " 353.06448940748254,\n",
       " -42.740283269088735,\n",
       " 242.62380204743067,\n",
       " 113.55265138153311,\n",
       " -22.80064541006149,\n",
       " 72.40974540302005,\n",
       " -122.54321098999347,\n",
       " 197.35702484864834,\n",
       " 159.02567588817112]"
      ]
     },
     "execution_count": 21,
     "metadata": {},
     "output_type": "execute_result"
    }
   ],
   "source": [
    "avg_balance"
   ]
  },
  {
   "cell_type": "code",
   "execution_count": null,
   "metadata": {},
   "outputs": [],
   "source": []
  }
 ],
 "metadata": {
  "kernelspec": {
   "display_name": "Python 3",
   "language": "python",
   "name": "python3"
  },
  "language_info": {
   "codemirror_mode": {
    "name": "ipython",
    "version": 3
   },
   "file_extension": ".py",
   "mimetype": "text/x-python",
   "name": "python",
   "nbconvert_exporter": "python",
   "pygments_lexer": "ipython3",
   "version": "3.5.2"
  }
 },
 "nbformat": 4,
 "nbformat_minor": 2
}
